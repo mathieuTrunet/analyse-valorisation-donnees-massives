{
 "cells": [
  {
   "cell_type": "markdown",
   "id": "dc3b79bb",
   "metadata": {},
   "source": [
    "# Introduction\n",
    "\n",
    "\n",
    "\n",
    "Beautiful Soup est une bibliothèque Python permettant d'extraire des données de fichiers HTML et XML. Il fonctionne avec votre analyseur préféré pour fournir des moyens idiomatiques de navigation, de recherche et de modification de l'arbre d'analyse. Cela permet généralement aux programmeurs d'économiser des heures ou des jours de travail.\n",
    "\n",
    "Ces instructions illustrent toutes les principales fonctionnalités de Beautiful Soup 4, avec des exemples. Je vous montre à quoi sert la bibliothèque, comment elle fonctionne, comment l'utiliser, comment lui faire faire ce que vous voulez et quoi faire quand elle viole vos attentes.\n",
    "\n",
    "Ce document couvre la version 4.8.1 de Beautiful Soup. Les exemples de cette documentation devraient fonctionner de la même manière dans Python 2.7 et Python 3.2.\n",
    "\n",
    "Vous recherchez peut-être la documentation de Beautiful Soup 3 . Si tel est le cas, sachez que Beautiful Soup 3 n'est plus développé et que son support sera abandonné le 31 décembre 2020 ou après. Si vous souhaitez en savoir plus sur les différences entre Beautiful Soup 3 et Beautiful Soup 4, consultez Portage coder à BS4.\n",
    "\n",
    "\n",
    "# Démarrage rapide\n",
    "\n",
    "\n",
    "Voici un document HTML que j'utiliserai comme exemple tout au long de ce document. C'est une partie d'une histoire d' Alice au pays des merveilles :"
   ]
  },
  {
   "cell_type": "code",
   "execution_count": 1,
   "id": "adea704a",
   "metadata": {},
   "outputs": [],
   "source": [
    "html_doc = \"\"\"\n",
    "<html><head><title>    The Dormouse's story</title></head>\n",
    "<body>\n",
    "<p class=\"title1\"><b>The Dormouse's story</b></p>\n",
    "\n",
    "<p class=\"story\">Once upon a time there were three little sisters; and their names were\n",
    "<a href=\"http://example.com/elsie\" class=\"sister\" id=\"link1\">Elsie</a>,\n",
    "<a href=\"http://example.com/lacie\" class=\"sister\" id=\"link2\">Lacie</a> and\n",
    "<a href=\"http://example.com/tillie\" class=\"sister\" id=\"link3\">Tillie</a>;\n",
    "and they lived at the bottom of a well.</p>\n",
    "\n",
    "<p class=\"story\">...</p>\n",
    "\"\"\""
   ]
  },
  {
   "cell_type": "markdown",
   "id": "07061186",
   "metadata": {},
   "source": [
    "L'exécution du document \"trois sœurs\" via Beautiful Soup nous donne un BeautifulSoupobjet, qui représente le document comme une structure de données imbriquée :"
   ]
  },
  {
   "cell_type": "code",
   "execution_count": 2,
   "id": "55530c34",
   "metadata": {
    "scrolled": true
   },
   "outputs": [
    {
     "ename": "ModuleNotFoundError",
     "evalue": "No module named 'bs4'",
     "output_type": "error",
     "traceback": [
      "\u001b[1;31m---------------------------------------------------------------------------\u001b[0m",
      "\u001b[1;31mModuleNotFoundError\u001b[0m                       Traceback (most recent call last)",
      "Cell \u001b[1;32mIn[2], line 1\u001b[0m\n\u001b[1;32m----> 1\u001b[0m \u001b[38;5;28;01mfrom\u001b[39;00m \u001b[38;5;21;01mbs4\u001b[39;00m \u001b[38;5;28;01mimport\u001b[39;00m BeautifulSoup\n\u001b[0;32m      2\u001b[0m soup \u001b[38;5;241m=\u001b[39m BeautifulSoup(html_doc, \u001b[38;5;124m'\u001b[39m\u001b[38;5;124mhtml.parser\u001b[39m\u001b[38;5;124m'\u001b[39m)\n\u001b[0;32m      4\u001b[0m \u001b[38;5;28mprint\u001b[39m(soup\u001b[38;5;241m.\u001b[39mprettify())\n",
      "\u001b[1;31mModuleNotFoundError\u001b[0m: No module named 'bs4'"
     ]
    }
   ],
   "source": [
    "from bs4 import BeautifulSoup\n",
    "soup = BeautifulSoup(html_doc, 'html.parser')\n",
    "\n",
    "print(soup.prettify())"
   ]
  },
  {
   "cell_type": "markdown",
   "id": "9041df74",
   "metadata": {},
   "source": [
    "<html>\n",
    " <head>\n",
    "  <title>\n",
    "   The Dormouse's story\n",
    "  </title>\n",
    " </head>\n",
    " <body>\n",
    "  <p class=\"title1\">\n",
    "   <b>\n",
    "    The Dormouse's story\n",
    "   </b>\n",
    "  </p>\n",
    "  <p class=\"story\">\n",
    "   Once upon a time there were three little sisters; and their names were\n",
    "   <a class=\"sister\" href=\"http://example.com/elsie\" id=\"link1\">\n",
    "    Elsie\n",
    "   </a>\n",
    "   ,\n",
    "   <a class=\"sister\" href=\"http://example.com/lacie\" id=\"link2\">\n",
    "    Lacie\n",
    "   </a>\n",
    "   and\n",
    "   <a class=\"sister\" href=\"http://example.com/tillie\" id=\"link3\">\n",
    "    Tillie\n",
    "   </a>\n",
    "   ;\n",
    "and they lived at the bottom of a well.\n",
    "  </p>\n",
    "  <p class=\"story\">\n",
    "   ...\n",
    "  </p>\n",
    " </body>\n",
    "</html>"
   ]
  },
  {
   "cell_type": "markdown",
   "id": "81168163",
   "metadata": {},
   "source": [
    "Voici quelques façons simples de naviguer dans cette structure de données :"
   ]
  },
  {
   "cell_type": "code",
   "execution_count": null,
   "id": "63961928",
   "metadata": {},
   "outputs": [
    {
     "data": {
      "text/plain": [
       "<title>    The Dormouse's story</title>"
      ]
     },
     "execution_count": 10,
     "metadata": {},
     "output_type": "execute_result"
    }
   ],
   "source": [
    "soup.title"
   ]
  },
  {
   "cell_type": "code",
   "execution_count": null,
   "id": "b93bd241",
   "metadata": {},
   "outputs": [
    {
     "data": {
      "text/plain": [
       "'title'"
      ]
     },
     "execution_count": 11,
     "metadata": {},
     "output_type": "execute_result"
    }
   ],
   "source": [
    "soup.title.name"
   ]
  },
  {
   "cell_type": "code",
   "execution_count": null,
   "id": "40b54794",
   "metadata": {},
   "outputs": [
    {
     "data": {
      "text/plain": [
       "\"The Dormouse's story\""
      ]
     },
     "execution_count": 14,
     "metadata": {},
     "output_type": "execute_result"
    }
   ],
   "source": [
    "soup.title.string.strip()"
   ]
  },
  {
   "cell_type": "code",
   "execution_count": null,
   "id": "415dbf70",
   "metadata": {},
   "outputs": [],
   "source": [
    "a='**** bonjour*****'"
   ]
  },
  {
   "cell_type": "code",
   "execution_count": null,
   "id": "e68b8a70",
   "metadata": {},
   "outputs": [
    {
     "data": {
      "text/plain": [
       "' bonjour'"
      ]
     },
     "execution_count": 8,
     "metadata": {},
     "output_type": "execute_result"
    }
   ],
   "source": [
    "a.strip('*')"
   ]
  },
  {
   "cell_type": "code",
   "execution_count": null,
   "id": "121c21b8",
   "metadata": {},
   "outputs": [
    {
     "data": {
      "text/plain": [
       "'head'"
      ]
     },
     "execution_count": 9,
     "metadata": {},
     "output_type": "execute_result"
    }
   ],
   "source": [
    "soup.title.parent.name"
   ]
  },
  {
   "cell_type": "code",
   "execution_count": null,
   "id": "d7b9e387",
   "metadata": {},
   "outputs": [
    {
     "data": {
      "text/plain": [
       "<p class=\"title1\"><b>The Dormouse's story</b></p>"
      ]
     },
     "execution_count": 10,
     "metadata": {},
     "output_type": "execute_result"
    }
   ],
   "source": [
    "soup.p"
   ]
  },
  {
   "cell_type": "code",
   "execution_count": null,
   "id": "1d9ea27f",
   "metadata": {},
   "outputs": [
    {
     "data": {
      "text/plain": [
       "['title1']"
      ]
     },
     "execution_count": 11,
     "metadata": {},
     "output_type": "execute_result"
    }
   ],
   "source": [
    "soup.p['class']"
   ]
  },
  {
   "cell_type": "code",
   "execution_count": null,
   "id": "07e7be65",
   "metadata": {},
   "outputs": [
    {
     "data": {
      "text/plain": [
       "<a class=\"sister\" href=\"http://example.com/elsie\" id=\"link1\">Elsie</a>"
      ]
     },
     "execution_count": 12,
     "metadata": {},
     "output_type": "execute_result"
    }
   ],
   "source": [
    "soup.a"
   ]
  },
  {
   "cell_type": "code",
   "execution_count": null,
   "id": "1249693d",
   "metadata": {},
   "outputs": [
    {
     "data": {
      "text/plain": [
       "[<a class=\"sister\" href=\"http://example.com/elsie\" id=\"link1\">Elsie</a>,\n",
       " <a class=\"sister\" href=\"http://example.com/lacie\" id=\"link2\">Lacie</a>,\n",
       " <a class=\"sister\" href=\"http://example.com/tillie\" id=\"link3\">Tillie</a>]"
      ]
     },
     "execution_count": 13,
     "metadata": {},
     "output_type": "execute_result"
    }
   ],
   "source": [
    "soup.find_all('a')"
   ]
  },
  {
   "cell_type": "code",
   "execution_count": null,
   "id": "033f4869",
   "metadata": {},
   "outputs": [
    {
     "data": {
      "text/plain": [
       "<a class=\"sister\" href=\"http://example.com/tillie\" id=\"link3\">Tillie</a>"
      ]
     },
     "execution_count": 14,
     "metadata": {},
     "output_type": "execute_result"
    }
   ],
   "source": [
    "soup.find(id=\"link3\")"
   ]
  },
  {
   "cell_type": "raw",
   "id": "db3c0590",
   "metadata": {},
   "source": [
    "Une tâche courante consiste à extraire toutes les URL trouvées dans les balises <a> d'une page :"
   ]
  },
  {
   "cell_type": "code",
   "execution_count": null,
   "id": "e5c724eb",
   "metadata": {},
   "outputs": [
    {
     "name": "stdout",
     "output_type": "stream",
     "text": [
      "http://example.com/elsie\n",
      "http://example.com/lacie\n",
      "http://example.com/tillie\n"
     ]
    }
   ],
   "source": [
    "for link in soup.find_all('a'):\n",
    "    print(link.get('href'))"
   ]
  },
  {
   "cell_type": "markdown",
   "id": "17689d22",
   "metadata": {},
   "source": [
    "Une autre tâche courante consiste à extraire tout le texte d'une page :"
   ]
  },
  {
   "cell_type": "code",
   "execution_count": null,
   "id": "d17b4fda",
   "metadata": {},
   "outputs": [
    {
     "name": "stdout",
     "output_type": "stream",
     "text": [
      "\n",
      "The Dormouse's story\n",
      "\n",
      "The Dormouse's story\n",
      "Once upon a time there were three little sisters; and their names were\n",
      "Elsie,\n",
      "Lacie and\n",
      "Tillie;\n",
      "and they lived at the bottom of a well.\n",
      "...\n",
      "\n"
     ]
    }
   ],
   "source": [
    "print(soup.get_text())"
   ]
  },
  {
   "cell_type": "markdown",
   "id": "4a997f0c",
   "metadata": {},
   "source": [
    "# Installation de BeautifulSoup"
   ]
  },
  {
   "cell_type": "code",
   "execution_count": null,
   "id": "1a9bce02",
   "metadata": {},
   "outputs": [],
   "source": [
    "#pip install python-bs4"
   ]
  },
  {
   "cell_type": "markdown",
   "id": "bc57f8f8",
   "metadata": {},
   "source": [
    "Beautiful Soup est conditionné sous forme de code Python 2. Lorsque vous l'installez pour l'utiliser avec Python 3, il est automatiquement converti en code Python 3. Si vous n'installez pas le package, le code ne sera pas converti. Il y a également eu des rapports sur des machines Windows indiquant que la mauvaise version était installée.\n",
    "\n",
    "Si vous obtenez le ImportError\"Aucun module nommé HTMLParser\", votre problème est que vous exécutez la version Python 2 du code sous Python 3.\n",
    "\n",
    "Si vous obtenez le ImportError\"Aucun module nommé html.parser\", votre problème est que vous exécutez la version Python 3 du code sous Python 2.\n",
    "\n",
    "Dans les deux cas, votre meilleur pari est de supprimer complètement l'installation de Beautiful Soup de votre système (y compris tout répertoire créé lorsque vous avez décompressé l'archive) et de réessayer l'installation.\n",
    "\n",
    "Si vous obtenez la SyntaxError\"Syntaxe invalide\" sur la ligne , vous devez convertir le code Python 2 en Python 3. Vous pouvez le faire soit en installant le package :ROOT_TAG_NAME = u'[document]'\n",
    "\n",
    "$ python3 setup.py install\n",
    "\n"
   ]
  },
  {
   "cell_type": "markdown",
   "id": "f07e39ed",
   "metadata": {},
   "source": [
    "# Installing a parser\n",
    "Beautiful Soup supporte l'analyseur HTML inclus dans la bibliothèque standard de Python, mais aussi un certain nombre d'analyseurs Python tiers. L'un d'entre eux est l'analyseur lxml( parser). Selon votre configuration, vous pouvez installer lxml avec l'une de ces commandes :"
   ]
  },
  {
   "cell_type": "code",
   "execution_count": null,
   "id": "f4620c83",
   "metadata": {},
   "outputs": [
    {
     "name": "stdout",
     "output_type": "stream",
     "text": [
      "Requirement already satisfied: lxml in c:\\users\\gcher\\appdata\\local\\programs\\python\\python310\\lib\\site-packages (4.9.2)\n"
     ]
    }
   ],
   "source": [
    "!py -m pip install lxml"
   ]
  },
  {
   "cell_type": "markdown",
   "id": "0929aebe",
   "metadata": {},
   "source": [
    "Une autre alternative est le pur-Python html5lib parser , qui analyse le HTML comme le fait un navigateur Web. Selon votre configuration, vous pouvez installer html5lib avec l'une de ces commandes :"
   ]
  },
  {
   "cell_type": "code",
   "execution_count": null,
   "id": "811d1d6a",
   "metadata": {},
   "outputs": [
    {
     "name": "stdout",
     "output_type": "stream",
     "text": [
      "Requirement already satisfied: html5lib in c:\\users\\gcher\\appdata\\local\\programs\\python\\python310\\lib\\site-packages (1.1)\n",
      "Requirement already satisfied: webencodings in c:\\users\\gcher\\appdata\\local\\programs\\python\\python310\\lib\\site-packages (from html5lib) (0.5.1)\n",
      "Requirement already satisfied: six>=1.9 in c:\\users\\gcher\\appdata\\local\\programs\\python\\python310\\lib\\site-packages (from html5lib) (1.16.0)\n",
      "Note: you may need to restart the kernel to use updated packages.\n"
     ]
    },
    {
     "name": "stderr",
     "output_type": "stream",
     "text": [
      "\n",
      "[notice] A new release of pip is available: 23.0.1 -> 23.1\n",
      "[notice] To update, run: C:\\Users\\gcher\\AppData\\Local\\Programs\\Python\\Python310\\python.exe -m pip install --upgrade pip\n"
     ]
    }
   ],
   "source": [
    "pip install html5lib"
   ]
  },
  {
   "cell_type": "markdown",
   "id": "7525e090",
   "metadata": {},
   "source": [
    "Si vous le pouvez, je vous recommande d'installer et d'utiliser lxml pour plus de rapidité. Si vous utilisez une version de Python 2 antérieure à 2.7.3 ou une version de Python 3 antérieure à 3.2.2, il est essentiel d'installer lxml ou html5lib - l'analyseur HTML intégré de Python n'est tout simplement pas très bon dans les versions plus anciennes. versions.\n",
    "\n",
    "Notez que si un document n'est pas valide, différents analyseurs généreront différents arbres Beautiful Soup pour celui-ci. Voir Différences entre les analyseurs pour plus de détails."
   ]
  },
  {
   "cell_type": "markdown",
   "id": "b6033958",
   "metadata": {},
   "source": [
    "# Faire la soupe\n",
    "\n",
    "our analyser un document, passez-le au BeautifulSoup constructeur. Vous pouvez passer une chaîne ou un handle de fichier ouvert :"
   ]
  },
  {
   "cell_type": "code",
   "execution_count": null,
   "id": "d2faf50f",
   "metadata": {},
   "outputs": [],
   "source": [
    "from bs4 import BeautifulSoup\n",
    "\n",
    "with open(\"index.html\") as fp:\n",
    "    soup = BeautifulSoup(fp)\n",
    "\n",
    "#soup = BeautifulSoup(\"<html>data</html>\")"
   ]
  },
  {
   "cell_type": "code",
   "execution_count": null,
   "id": "fa4e43e3",
   "metadata": {},
   "outputs": [
    {
     "name": "stdout",
     "output_type": "stream",
     "text": [
      "<html>\n",
      " <head>\n",
      "  <title>\n",
      "   The Dormouse's story\n",
      "  </title>\n",
      " </head>\n",
      " <body>\n",
      "  <p class=\"title1\">\n",
      "   <b>\n",
      "    The Dormouse's story\n",
      "   </b>\n",
      "  </p>\n",
      "  <p class=\"story\">\n",
      "   Once upon a time there were three little sisters; and their names were\n",
      "   <a class=\"sister\" href=\"http://example.com/elsie\" id=\"link1\">\n",
      "    Elsie\n",
      "   </a>\n",
      "   ,\n",
      "   <a class=\"sister\" href=\"http://example.com/lacie\" id=\"link2\">\n",
      "    Lacie\n",
      "   </a>\n",
      "   and\n",
      "   <a class=\"sister\" href=\"http://example.com/tillie\" id=\"link3\">\n",
      "    Tillie\n",
      "   </a>\n",
      "   ;\n",
      "and they lived at the bottom of a well.\n",
      "  </p>\n",
      "  <p class=\"story\">\n",
      "   ...\n",
      "  </p>\n",
      " </body>\n",
      "</html>\n"
     ]
    }
   ],
   "source": [
    "print(soup.prettify())"
   ]
  },
  {
   "cell_type": "code",
   "execution_count": null,
   "id": "57dd3b59",
   "metadata": {},
   "outputs": [
    {
     "data": {
      "text/plain": [
       "<html><body><p>Sacré bleu!</p></body></html>"
      ]
     },
     "execution_count": 22,
     "metadata": {},
     "output_type": "execute_result"
    }
   ],
   "source": [
    "BeautifulSoup(\"Sacr&eacute; bleu!\")"
   ]
  },
  {
   "cell_type": "markdown",
   "id": "0200cf5f",
   "metadata": {},
   "source": [
    "# Types d'objets"
   ]
  },
  {
   "cell_type": "markdown",
   "id": "d0043b29",
   "metadata": {},
   "source": [
    "Beautiful Soup transforme un document HTML complexe en un arbre complexe d'objets Python. Mais vous n'aurez à gérer qu'environ quatre types d'objets : Tag, NavigableString, BeautifulSoup et Comment."
   ]
  },
  {
   "cell_type": "markdown",
   "id": "c735cb9d",
   "metadata": {},
   "source": [
    "## TAG\n",
    "Un Tag objet correspond à une balise XML ou HTML dans le document d'origine :"
   ]
  },
  {
   "cell_type": "code",
   "execution_count": null,
   "id": "d13e72ab",
   "metadata": {},
   "outputs": [
    {
     "data": {
      "text/plain": [
       "bs4.element.Tag"
      ]
     },
     "execution_count": 19,
     "metadata": {},
     "output_type": "execute_result"
    }
   ],
   "source": [
    "soup = BeautifulSoup('<b class=\"boldest\">Extremely bold</b>  ')\n",
    "tag = soup.b\n",
    "type(tag)"
   ]
  },
  {
   "cell_type": "markdown",
   "id": "8884633f",
   "metadata": {},
   "source": [
    "Les balises ont beaucoup d'attributs et de méthodes, et j'aborderai la plupart d'entre elles dans Naviguer dans l'arborescence et Rechercher dans l'arborescence . Pour l'instant, les caractéristiques les plus importantes d'une balise sont son nom et ses attributs."
   ]
  },
  {
   "cell_type": "markdown",
   "id": "305b51dc",
   "metadata": {},
   "source": [
    "## Nom\n",
    "\n",
    "Chaque tag a un nom, accessible comme .name:"
   ]
  },
  {
   "cell_type": "code",
   "execution_count": null,
   "id": "94ea599d",
   "metadata": {},
   "outputs": [
    {
     "data": {
      "text/plain": [
       "'b'"
      ]
     },
     "execution_count": 20,
     "metadata": {},
     "output_type": "execute_result"
    }
   ],
   "source": [
    "tag.name"
   ]
  },
  {
   "cell_type": "markdown",
   "id": "de11c13b",
   "metadata": {},
   "source": [
    "Si vous modifiez le nom d'une balise, la modification sera répercutée dans tout balisage HTML généré par Beautiful Soup :"
   ]
  },
  {
   "cell_type": "code",
   "execution_count": null,
   "id": "24291afd",
   "metadata": {},
   "outputs": [
    {
     "data": {
      "text/plain": [
       "<blockquote class=\"boldest\">Extremely bold</blockquote>"
      ]
     },
     "execution_count": 21,
     "metadata": {},
     "output_type": "execute_result"
    }
   ],
   "source": [
    "tag.name = \"blockquote\"\n",
    "tag"
   ]
  },
  {
   "cell_type": "markdown",
   "id": "d88e1a51",
   "metadata": {},
   "source": [
    "## Les attributs\n",
    "Une balise peut avoir n'importe quel nombre d'attributs. La balise a un attribut \"id\" dont la valeur est \"boldest\". Vous pouvez accéder aux attributs d'une balise en traitant la balise comme un dictionnaire :<b id=\"boldest\">"
   ]
  },
  {
   "cell_type": "code",
   "execution_count": null,
   "id": "80028d89",
   "metadata": {},
   "outputs": [
    {
     "data": {
      "text/plain": [
       "bs4.element.Tag"
      ]
     },
     "execution_count": 22,
     "metadata": {},
     "output_type": "execute_result"
    }
   ],
   "source": [
    "soup = BeautifulSoup('<b id=\"boldest\">Extremely bold</b> ')\n",
    "tag = soup.b\n",
    "type(tag)\n"
   ]
  },
  {
   "cell_type": "code",
   "execution_count": null,
   "id": "810e2fe0",
   "metadata": {},
   "outputs": [
    {
     "data": {
      "text/plain": [
       "'boldest'"
      ]
     },
     "execution_count": 23,
     "metadata": {},
     "output_type": "execute_result"
    }
   ],
   "source": [
    "tag['id']\n"
   ]
  },
  {
   "cell_type": "markdown",
   "id": "abb83fb1",
   "metadata": {},
   "source": [
    "Vous pouvez accéder à ce dictionnaire directement en tant que.attrs :"
   ]
  },
  {
   "cell_type": "code",
   "execution_count": null,
   "id": "fb08bdda",
   "metadata": {},
   "outputs": [
    {
     "data": {
      "text/plain": [
       "{'id': 'verybold', 'another-attribute': 1}"
      ]
     },
     "execution_count": 27,
     "metadata": {},
     "output_type": "execute_result"
    }
   ],
   "source": [
    "tag.attrs"
   ]
  },
  {
   "cell_type": "markdown",
   "id": "81d39913",
   "metadata": {},
   "source": [
    "Vous pouvez ajouter, supprimer et modifier les attributs d'une balise. Encore une fois, cela se fait en traitant la balise comme un dictionnaire :"
   ]
  },
  {
   "cell_type": "code",
   "execution_count": null,
   "id": "4bd917a3",
   "metadata": {},
   "outputs": [
    {
     "data": {
      "text/plain": [
       "<b another-attribute=\"1\" id=\"verybold\">Extremely bold</b>"
      ]
     },
     "execution_count": 25,
     "metadata": {},
     "output_type": "execute_result"
    }
   ],
   "source": [
    "tag['id'] = 'verybold'\n",
    "tag['another-attribute'] = 1\n",
    "tag"
   ]
  },
  {
   "cell_type": "code",
   "execution_count": null,
   "id": "accbc201",
   "metadata": {},
   "outputs": [
    {
     "data": {
      "text/plain": [
       "<b>Extremely bold</b>"
      ]
     },
     "execution_count": 30,
     "metadata": {},
     "output_type": "execute_result"
    }
   ],
   "source": [
    "del tag['id']\n",
    "del tag['another-attribute']\n",
    "tag"
   ]
  },
  {
   "cell_type": "code",
   "execution_count": null,
   "id": "acda270b",
   "metadata": {},
   "outputs": [
    {
     "data": {
      "text/plain": [
       "'verybold'"
      ]
     },
     "execution_count": 26,
     "metadata": {},
     "output_type": "execute_result"
    }
   ],
   "source": [
    "tag['id']"
   ]
  },
  {
   "cell_type": "code",
   "execution_count": null,
   "id": "f60f84ee",
   "metadata": {},
   "outputs": [
    {
     "name": "stdout",
     "output_type": "stream",
     "text": [
      "verybold\n"
     ]
    }
   ],
   "source": [
    "print(tag.get('id'))"
   ]
  },
  {
   "cell_type": "markdown",
   "id": "c54dabc1",
   "metadata": {},
   "source": [
    "# Attributs à valeurs multiples"
   ]
  },
  {
   "cell_type": "markdown",
   "id": "0f8598bc",
   "metadata": {},
   "source": [
    "HTML 4 définit quelques attributs qui peuvent avoir plusieurs valeurs. HTML 5 en supprime quelques-uns, mais en définit quelques autres. L'attribut à valeurs multiples le plus courant est class(c'est-à-dire qu'une balise peut avoir plusieurs classes CSS). D'autres incluent rel, rev, accept-charset, headerset accesskey. Beautiful Soup présente la ou les valeurs d'un attribut à valeurs multiples sous forme de liste :"
   ]
  },
  {
   "cell_type": "code",
   "execution_count": null,
   "id": "a88a4abf",
   "metadata": {},
   "outputs": [],
   "source": [
    "css_soup = BeautifulSoup('<p class=\"body\"></p>')\n",
    "css_soup.p['class']"
   ]
  },
  {
   "cell_type": "code",
   "execution_count": null,
   "id": "e75250ae",
   "metadata": {},
   "outputs": [],
   "source": [
    "css_soup = BeautifulSoup('<p class=\"body strikeout\"></p>')\n",
    "css_soup.p['class']"
   ]
  },
  {
   "cell_type": "markdown",
   "id": "a958c4a3",
   "metadata": {},
   "source": [
    "Si un attribut semble avoir plus d'une valeur, mais qu'il ne s'agit pas d'un attribut à valeurs multiples tel que défini par n'importe quelle version de la norme HTML, Beautiful Soup laissera l'attribut tel quel :"
   ]
  },
  {
   "cell_type": "code",
   "execution_count": null,
   "id": "7bb8aeb7",
   "metadata": {},
   "outputs": [],
   "source": [
    "id_soup = BeautifulSoup('<p id=\"my id\"></p>')\n",
    "id_soup.p['id']"
   ]
  },
  {
   "cell_type": "markdown",
   "id": "c44b940e",
   "metadata": {},
   "source": [
    "Lorsque vous retransformez une balise en chaîne, plusieurs valeurs d'attribut sont consolidées :"
   ]
  },
  {
   "cell_type": "code",
   "execution_count": null,
   "id": "a6d9a6d9",
   "metadata": {},
   "outputs": [],
   "source": [
    "rel_soup = BeautifulSoup('<p>Back to the <a rel=\"index\">homepage</a></p>')\n",
    "rel_soup.a['rel']"
   ]
  },
  {
   "cell_type": "code",
   "execution_count": null,
   "id": "3fc4065c",
   "metadata": {},
   "outputs": [],
   "source": [
    "rel_soup.a['rel'] = ['index', 'contents']\n",
    "print(rel_soup.p)"
   ]
  },
  {
   "cell_type": "markdown",
   "id": "64a2285e",
   "metadata": {},
   "source": [
    "Vous pouvez désactiver cela en passant multi_valued_attributes=Nonecomme argument mot-clé dans le BeautifulSoupconstructeur :"
   ]
  },
  {
   "cell_type": "code",
   "execution_count": null,
   "id": "b39f006b",
   "metadata": {},
   "outputs": [],
   "source": [
    "no_list_soup = BeautifulSoup('<p class=\"body strikeout\"></p>', 'html', multi_valued_attributes=None)\n",
    "no_list_soup.p['class']"
   ]
  },
  {
   "cell_type": "markdown",
   "id": "d95be606",
   "metadata": {},
   "source": [
    "Vous pouvez utiliser `get_attribute_list pour obtenir une valeur qui est toujours une liste, qu'il s'agisse ou non d'un attribut à plusieurs valeurs :"
   ]
  },
  {
   "cell_type": "code",
   "execution_count": null,
   "id": "dcfee7a8",
   "metadata": {},
   "outputs": [],
   "source": [
    "id_soup.p.get_attribute_list('id')"
   ]
  },
  {
   "cell_type": "markdown",
   "id": "644ab12b",
   "metadata": {},
   "source": [
    "Si vous analysez un document au format XML, il n'y a pas d'attributs à plusieurs valeurs :"
   ]
  },
  {
   "cell_type": "code",
   "execution_count": null,
   "id": "95ccedb3",
   "metadata": {},
   "outputs": [],
   "source": [
    "xml_soup = BeautifulSoup('<p class=\"body strikeout\"></p>', 'xml')\n",
    "xml_soup.p['class']"
   ]
  },
  {
   "cell_type": "markdown",
   "id": "72fcb241",
   "metadata": {},
   "source": [
    "Encore une fois, vous pouvez configurer cela en utilisant l' multi_valued_attributes argument :"
   ]
  },
  {
   "cell_type": "code",
   "execution_count": null,
   "id": "04124ce2",
   "metadata": {},
   "outputs": [],
   "source": [
    "class_is_multi= { '*' : 'class'}\n",
    "xml_soup = BeautifulSoup('<p class=\"body strikeout\"></p>', 'xml', multi_valued_attributes=class_is_multi)\n",
    "xml_soup.p['class']"
   ]
  },
  {
   "cell_type": "markdown",
   "id": "6e0fdcf6",
   "metadata": {},
   "source": [
    "Vous n'aurez probablement pas besoin de le faire, mais si vous le faites, utilisez les valeurs par défaut comme guide. Ils implémentent les règles décrites dans la spécification HTML :"
   ]
  },
  {
   "cell_type": "code",
   "execution_count": null,
   "id": "ea2ff7fb",
   "metadata": {},
   "outputs": [],
   "source": [
    "from bs4.builder import builder_registry\n",
    "builder_registry.lookup('html').DEFAULT_CDATA_LIST_ATTRIBUTES"
   ]
  },
  {
   "cell_type": "markdown",
   "id": "d4a8325a",
   "metadata": {},
   "source": [
    "# NavigableString\n",
    "\n",
    "\n",
    "Une chaîne correspond à un morceau de texte dans une balise. Beautiful Soup utilise la NavigableStringclasse pour contenir ces morceaux de texte :"
   ]
  },
  {
   "cell_type": "code",
   "execution_count": null,
   "id": "33fbbcb7",
   "metadata": {},
   "outputs": [],
   "source": [
    "tag.string"
   ]
  },
  {
   "cell_type": "code",
   "execution_count": null,
   "id": "c063cb15",
   "metadata": {},
   "outputs": [],
   "source": [
    "tag"
   ]
  },
  {
   "cell_type": "code",
   "execution_count": null,
   "id": "bcc223aa",
   "metadata": {},
   "outputs": [],
   "source": [
    "type(tag.string)"
   ]
  },
  {
   "cell_type": "markdown",
   "id": "5d13dd19",
   "metadata": {},
   "source": [
    " NavigableStringest comme une chaîne Python Unicode, sauf qu'il prend également en charge certaines des fonctionnalités décrites dans Naviguer dans l'arborescence et Rechercher dans l'arborescence . Vous pouvez convertir un NavigableStringen une chaîne Unicode avec unicode():"
   ]
  },
  {
   "cell_type": "code",
   "execution_count": null,
   "id": "325a6efe",
   "metadata": {},
   "outputs": [],
   "source": [
    "import sys\n",
    "if sys.version_info[0] >= 3:\n",
    "    unicode = str\n",
    "unicode_string = unicode(tag.string)\n",
    "unicode_string"
   ]
  },
  {
   "cell_type": "code",
   "execution_count": null,
   "id": "794d3065",
   "metadata": {},
   "outputs": [],
   "source": [
    "type(unicode_string)"
   ]
  },
  {
   "cell_type": "markdown",
   "id": "d12fd228",
   "metadata": {},
   "source": [
    "Vous ne pouvez pas modifier une chaîne sur place, mais vous pouvez remplacer une chaîne par une autre, en utilisant replace_with() :"
   ]
  },
  {
   "cell_type": "code",
   "execution_count": null,
   "id": "1856eb9f",
   "metadata": {},
   "outputs": [],
   "source": [
    "tag.string.replace_with(\"No longer bold\")\n",
    "tag"
   ]
  },
  {
   "cell_type": "markdown",
   "id": "46ad3bd1",
   "metadata": {},
   "source": [
    "NavigableString prend en charge la plupart des fonctionnalités décrites dans Navigation dans l'arborescence et Recherche dans l'arborescence , mais pas toutes. En particulier, puisqu'une chaîne ne peut rien contenir (comme une balise peut contenir une chaîne ou une autre balise), les chaînes ne prennent pas en charge les attributs .contents ou .string ou la find() méthode.\n",
    "\n",
    "Si vous souhaitez utiliser un NavigableString extérieur de Beautiful Soup, vous devez unicode() l'appeler pour le transformer en une chaîne Python Unicode normale. Si vous ne le faites pas, votre chaîne comportera une référence à l'arbre d'analyse complet de Beautiful Soup, même lorsque vous avez terminé d'utiliser Beautiful Soup. C'est une grosse perte de mémoire.\n",
    "\n",
    "# BeautifulSoup\n",
    "  \n",
    "  \n",
    "L' BeautifulSoupobjet représente le document analysé dans son ensemble. Dans la plupart des cas, vous pouvez le traiter comme un objet Tag . Cela signifie qu'il prend en charge la plupart des méthodes décrites dans Navigation dans l'arborescence et Recherche dans l'arborescence .\n",
    "\n",
    "Vous pouvez également passer un BeautifulSoupobjet dans l'une des méthodes définies dans Modifier l'arborescence , comme vous le feriez pour un Tag . Cela vous permet de faire des choses comme combiner deux documents analysés"
   ]
  },
  {
   "cell_type": "code",
   "execution_count": null,
   "id": "31e9f149",
   "metadata": {},
   "outputs": [
    {
     "name": "stderr",
     "output_type": "stream",
     "text": [
      "C:\\Users\\gcher\\AppData\\Local\\Temp\\ipykernel_18740\\1664207533.py:3: DeprecationWarning: The 'text' argument to find()-type methods is deprecated. Use 'string' instead.\n",
      "  doc.find(text=\"INSERT FOOTER HERE\").replace_with(footer)\n"
     ]
    },
    {
     "data": {
      "text/plain": [
       "'INSERT FOOTER HERE'"
      ]
     },
     "execution_count": 35,
     "metadata": {},
     "output_type": "execute_result"
    }
   ],
   "source": [
    "doc = BeautifulSoup(\"<document><content/>INSERT FOOTER HERE</document\", \"xml\")\n",
    "footer = BeautifulSoup(\"<footer>Here's the footer</footer>\", \"xml\")\n",
    "doc.find(text=\"INSERT FOOTER HERE\").replace_with(footer)"
   ]
  },
  {
   "cell_type": "code",
   "execution_count": null,
   "id": "43eb08fa",
   "metadata": {},
   "outputs": [
    {
     "name": "stdout",
     "output_type": "stream",
     "text": [
      "<?xml version=\"1.0\" encoding=\"utf-8\"?>\n",
      "<document><content/><footer>Here's the footer</footer></document>\n"
     ]
    }
   ],
   "source": [
    "print(doc)"
   ]
  },
  {
   "cell_type": "markdown",
   "id": "3859771a",
   "metadata": {},
   "source": [
    "Étant donné que l' BeautifulSoupobjet ne correspond pas à une balise HTML ou XML réelle, il n'a ni nom ni attribut. Mais parfois, il est utile de regarder son .name, c'est pourquoi on lui a donné le .name\"[document]\" spécial :"
   ]
  },
  {
   "cell_type": "code",
   "execution_count": null,
   "id": "b9dee83b",
   "metadata": {},
   "outputs": [
    {
     "data": {
      "text/plain": [
       "'[document]'"
      ]
     },
     "execution_count": 37,
     "metadata": {},
     "output_type": "execute_result"
    }
   ],
   "source": [
    "footer.name"
   ]
  },
  {
   "cell_type": "code",
   "execution_count": null,
   "id": "00c40385",
   "metadata": {},
   "outputs": [
    {
     "data": {
      "text/plain": [
       "bs4.BeautifulSoup"
      ]
     },
     "execution_count": 38,
     "metadata": {},
     "output_type": "execute_result"
    }
   ],
   "source": [
    "type(doc)"
   ]
  },
  {
   "cell_type": "markdown",
   "id": "34e68608",
   "metadata": {},
   "source": [
    "# Commentaires et autres chaînes spéciales\n",
    "\n",
    "Tag, NavigableStringet BeautifulSoupcouvrent presque tout ce que vous verrez dans un fichier HTML ou XML, mais il reste quelques bits. Le seul dont vous aurez probablement à vous soucier est le commentaire :"
   ]
  },
  {
   "cell_type": "code",
   "execution_count": null,
   "id": "8d825f37",
   "metadata": {},
   "outputs": [
    {
     "data": {
      "text/plain": [
       "bs4.element.Comment"
      ]
     },
     "execution_count": 39,
     "metadata": {},
     "output_type": "execute_result"
    }
   ],
   "source": [
    "markup = \"<b><!--Hey, buddy. Want to buy a used parser?--></b>\"\n",
    "soup = BeautifulSoup(markup)\n",
    "comment = soup.b.string\n",
    "type(comment)"
   ]
  },
  {
   "cell_type": "markdown",
   "id": "c23f0a39",
   "metadata": {},
   "source": [
    "L' Comment objet est juste un type spécial de NavigableString:"
   ]
  },
  {
   "cell_type": "code",
   "execution_count": null,
   "id": "a3c46bc6",
   "metadata": {},
   "outputs": [
    {
     "data": {
      "text/plain": [
       "'Hey, buddy. Want to buy a used parser?'"
      ]
     },
     "execution_count": 40,
     "metadata": {},
     "output_type": "execute_result"
    }
   ],
   "source": [
    "comment"
   ]
  },
  {
   "cell_type": "markdown",
   "id": "4a9fe843",
   "metadata": {},
   "source": [
    "Mais lorsqu'il apparaît dans le cadre d'un document HTML, un Comments'affiche avec une mise en forme spéciale :"
   ]
  },
  {
   "cell_type": "code",
   "execution_count": null,
   "id": "f36116fc",
   "metadata": {},
   "outputs": [
    {
     "name": "stdout",
     "output_type": "stream",
     "text": [
      "<b>\n",
      " <!--Hey, buddy. Want to buy a used parser?-->\n",
      "</b>\n"
     ]
    }
   ],
   "source": [
    "print(soup.b.prettify())"
   ]
  },
  {
   "cell_type": "markdown",
   "id": "7dbaf604",
   "metadata": {},
   "source": [
    "Beautiful Soup définit des classes pour tout ce qui pourrait apparaître dans un document XML : CData, Processing Instruction, Declarationet Doctype. Tout comme Comment, ces classes sont des sous-classes de NavigableString qui ajoutent quelque chose de plus à la chaîne. Voici un exemple qui remplace le commentaire par un bloc CDATA :"
   ]
  },
  {
   "cell_type": "code",
   "execution_count": null,
   "id": "b8b04c0e",
   "metadata": {},
   "outputs": [
    {
     "name": "stdout",
     "output_type": "stream",
     "text": [
      "<b>\n",
      " <![CDATA[A CDATA block]]>\n",
      "</b>\n"
     ]
    }
   ],
   "source": [
    "from bs4 import CData\n",
    "cdata = CData(\"A CDATA block\")\n",
    "comment.replace_with(cdata)\n",
    "\n",
    "print(soup.b.prettify())"
   ]
  },
  {
   "cell_type": "markdown",
   "id": "e3c84b37",
   "metadata": {},
   "source": [
    "# Naviguer dans l'arborescence"
   ]
  },
  {
   "cell_type": "markdown",
   "id": "9fa58da7",
   "metadata": {},
   "source": [
    "Voici à nouveau le document HTML \"Three sisters\":"
   ]
  },
  {
   "cell_type": "code",
   "execution_count": null,
   "id": "d55c83a9",
   "metadata": {},
   "outputs": [],
   "source": [
    "html_doc = \"\"\"<html><head><title>The Dormouse's story</title></head>\n",
    "<body>\n",
    "<p class=\"title\"><b>The Dormouse's story</b></p>\n",
    "\n",
    "<p class=\"story\">Once upon a time there were three little sisters; and their names were\n",
    "<a href=\"http://example.com/elsie\" class=\"sister\" id=\"link1\">Elsie</a>,\n",
    "<a href=\"http://example.com/lacie\" class=\"sister\" id=\"link2\">Lacie</a> and\n",
    "<a href=\"http://example.com/tillie\" class=\"sister\" id=\"link3\">Tillie</a>;\n",
    "and they lived at the bottom of a well.</p>\n",
    "\n",
    "<p class=\"story\">...</p>\n",
    "\"\"\""
   ]
  },
  {
   "cell_type": "code",
   "execution_count": null,
   "id": "68c7b6c7",
   "metadata": {},
   "outputs": [],
   "source": [
    "from bs4 import BeautifulSoup\n",
    "soup = BeautifulSoup(html_doc, 'html.parser')"
   ]
  },
  {
   "cell_type": "markdown",
   "id": "b12ec237",
   "metadata": {},
   "source": [
    "Je vais l'utiliser comme exemple pour vous montrer comment passer d'une partie d'un document à une autre.\n",
    "\n",
    "\n",
    "# Descente GOING DOWN\n",
    "\n",
    "Les balises peuvent contenir des chaînes et d'autres balises. Ces éléments sont les enfants de la balise . Beautiful Soup fournit de nombreux attributs différents pour naviguer et itérer sur les enfants d'une balise.\n",
    "\n",
    "Notez que les chaînes Beautiful Soup ne prennent en charge aucun de ces attributs, car une chaîne ne peut pas avoir d'enfants.\n",
    "\n",
    "## Navigation à l'aide de noms de balises\n",
    "La façon la plus simple de naviguer dans l'arborescence d'analyse est de dire le nom de la balise que vous voulez. Si vous voulez la balise <head>, dites simplement soup.head:"
   ]
  },
  {
   "cell_type": "code",
   "execution_count": null,
   "id": "949b359c",
   "metadata": {},
   "outputs": [
    {
     "data": {
      "text/plain": [
       "<head><title>The Dormouse's story</title></head>"
      ]
     },
     "execution_count": 45,
     "metadata": {},
     "output_type": "execute_result"
    }
   ],
   "source": [
    "soup.head"
   ]
  },
  {
   "cell_type": "code",
   "execution_count": null,
   "id": "7f0d192a",
   "metadata": {},
   "outputs": [
    {
     "data": {
      "text/plain": [
       "<title>The Dormouse's story</title>"
      ]
     },
     "execution_count": 46,
     "metadata": {},
     "output_type": "execute_result"
    }
   ],
   "source": [
    "soup.title"
   ]
  },
  {
   "cell_type": "markdown",
   "id": "3e362696",
   "metadata": {},
   "source": [
    "Vous pouvez utiliser cette astuce encore et encore pour zoomer sur une certaine partie de l'arbre d'analyse. Ce code obtient la première balise  <! b>  sous la balise <!body>\" :"
   ]
  },
  {
   "cell_type": "code",
   "execution_count": null,
   "id": "b708b64d",
   "metadata": {},
   "outputs": [
    {
     "data": {
      "text/plain": [
       "<b>The Dormouse's story</b>"
      ]
     },
     "execution_count": 47,
     "metadata": {},
     "output_type": "execute_result"
    }
   ],
   "source": [
    "soup.body.b"
   ]
  },
  {
   "cell_type": "markdown",
   "id": "562d2c1a",
   "metadata": {},
   "source": [
    "L'utilisation d'un nom de balise comme attribut ne vous donnera que la première balise portant ce nom :"
   ]
  },
  {
   "cell_type": "code",
   "execution_count": null,
   "id": "80220726",
   "metadata": {},
   "outputs": [
    {
     "data": {
      "text/plain": [
       "<a class=\"sister\" href=\"http://example.com/elsie\" id=\"link1\">Elsie</a>"
      ]
     },
     "execution_count": 48,
     "metadata": {},
     "output_type": "execute_result"
    }
   ],
   "source": [
    "soup.a"
   ]
  },
  {
   "cell_type": "code",
   "execution_count": null,
   "id": "34e0fc57",
   "metadata": {},
   "outputs": [
    {
     "data": {
      "text/plain": [
       "<a class=\"sister\" href=\"http://example.com/elsie\" id=\"link1\">Elsie</a>"
      ]
     },
     "execution_count": 49,
     "metadata": {},
     "output_type": "execute_result"
    }
   ],
   "source": [
    "soup.find('a')"
   ]
  },
  {
   "cell_type": "markdown",
   "id": "8cf1acbf",
   "metadata": {},
   "source": [
    "Si vous avez besoin d'obtenir toutes les balises <!a>, ou quelque chose de plus compliqué que la première balise avec un certain nom, vous devrez utiliser l'une des méthodes décrites dans Searching the tree , comme find_all() :"
   ]
  },
  {
   "cell_type": "code",
   "execution_count": null,
   "id": "b296d1a9",
   "metadata": {},
   "outputs": [
    {
     "data": {
      "text/plain": [
       "[<a class=\"sister\" href=\"http://example.com/elsie\" id=\"link1\">Elsie</a>,\n",
       " <a class=\"sister\" href=\"http://example.com/lacie\" id=\"link2\">Lacie</a>,\n",
       " <a class=\"sister\" href=\"http://example.com/tillie\" id=\"link3\">Tillie</a>]"
      ]
     },
     "execution_count": 50,
     "metadata": {},
     "output_type": "execute_result"
    }
   ],
   "source": [
    "y=soup.find_all('a')\n",
    "y"
   ]
  },
  {
   "cell_type": "markdown",
   "id": "66bd5cf1",
   "metadata": {},
   "source": [
    "# .contents et .children\n",
    "\n",
    "\n",
    "Les enfants d'un tag sont disponibles dans une liste appelée .contents:"
   ]
  },
  {
   "cell_type": "code",
   "execution_count": null,
   "id": "137085ea",
   "metadata": {},
   "outputs": [
    {
     "data": {
      "text/plain": [
       "<head><title>The Dormouse's story</title></head>"
      ]
     },
     "execution_count": 51,
     "metadata": {},
     "output_type": "execute_result"
    }
   ],
   "source": [
    "head_tag = soup.head\n",
    "head_tag"
   ]
  },
  {
   "cell_type": "code",
   "execution_count": null,
   "id": "31de7999",
   "metadata": {},
   "outputs": [
    {
     "data": {
      "text/plain": [
       "1"
      ]
     },
     "execution_count": 52,
     "metadata": {},
     "output_type": "execute_result"
    }
   ],
   "source": [
    "len(head_tag.contents)"
   ]
  },
  {
   "cell_type": "code",
   "execution_count": null,
   "id": "771f4db0",
   "metadata": {},
   "outputs": [
    {
     "data": {
      "text/plain": [
       "<title>The Dormouse's story</title>"
      ]
     },
     "execution_count": 53,
     "metadata": {},
     "output_type": "execute_result"
    }
   ],
   "source": [
    "title_tag = head_tag.contents[0]\n",
    "title_tag"
   ]
  },
  {
   "cell_type": "code",
   "execution_count": null,
   "id": "ee155592",
   "metadata": {},
   "outputs": [
    {
     "data": {
      "text/plain": [
       "[\"The Dormouse's story\"]"
      ]
     },
     "execution_count": 54,
     "metadata": {},
     "output_type": "execute_result"
    }
   ],
   "source": [
    "title_tag.contents"
   ]
  },
  {
   "cell_type": "markdown",
   "id": "6e510d8b",
   "metadata": {},
   "source": [
    "L' BeautifulSoupobjet lui-même a des enfants. Dans ce cas, la balise <html> est l'enfant de l' BeautifulSoupobjet :"
   ]
  },
  {
   "cell_type": "code",
   "execution_count": null,
   "id": "6457b106",
   "metadata": {},
   "outputs": [
    {
     "data": {
      "text/plain": [
       "1"
      ]
     },
     "execution_count": 55,
     "metadata": {},
     "output_type": "execute_result"
    }
   ],
   "source": [
    "len(soup.contents)"
   ]
  },
  {
   "cell_type": "code",
   "execution_count": null,
   "id": "651af46d",
   "metadata": {},
   "outputs": [
    {
     "data": {
      "text/plain": [
       "<html><head><title>The Dormouse's story</title></head>\n",
       "<body>\n",
       "<p class=\"title\"><b>The Dormouse's story</b></p>\n",
       "<p class=\"story\">Once upon a time there were three little sisters; and their names were\n",
       "<a class=\"sister\" href=\"http://example.com/elsie\" id=\"link1\">Elsie</a>,\n",
       "<a class=\"sister\" href=\"http://example.com/lacie\" id=\"link2\">Lacie</a> and\n",
       "<a class=\"sister\" href=\"http://example.com/tillie\" id=\"link3\">Tillie</a>;\n",
       "and they lived at the bottom of a well.</p>\n",
       "<p class=\"story\">...</p>\n",
       "</body></html>"
      ]
     },
     "execution_count": 56,
     "metadata": {},
     "output_type": "execute_result"
    }
   ],
   "source": [
    "soup.contents[0]"
   ]
  },
  {
   "cell_type": "markdown",
   "id": "f9168ea9",
   "metadata": {},
   "source": [
    "Une chaîne n'a pas .contents, car elle ne peut rien contenir :"
   ]
  },
  {
   "cell_type": "code",
   "execution_count": null,
   "id": "f0b63210",
   "metadata": {},
   "outputs": [
    {
     "ename": "AttributeError",
     "evalue": "'NavigableString' object has no attribute 'contents'",
     "output_type": "error",
     "traceback": [
      "\u001b[1;31m---------------------------------------------------------------------------\u001b[0m",
      "\u001b[1;31mAttributeError\u001b[0m                            Traceback (most recent call last)",
      "Cell \u001b[1;32mIn[57], line 2\u001b[0m\n\u001b[0;32m      1\u001b[0m text \u001b[38;5;241m=\u001b[39m title_tag\u001b[38;5;241m.\u001b[39mcontents[\u001b[38;5;241m0\u001b[39m]\n\u001b[1;32m----> 2\u001b[0m \u001b[43mtext\u001b[49m\u001b[38;5;241;43m.\u001b[39;49m\u001b[43mcontents\u001b[49m\n",
      "File \u001b[1;32m~\\AppData\\Local\\Programs\\Python\\Python310\\lib\\site-packages\\bs4\\element.py:974\u001b[0m, in \u001b[0;36mNavigableString.__getattr__\u001b[1;34m(self, attr)\u001b[0m\n\u001b[0;32m    972\u001b[0m     \u001b[38;5;28;01mreturn\u001b[39;00m \u001b[38;5;28mself\u001b[39m\n\u001b[0;32m    973\u001b[0m \u001b[38;5;28;01melse\u001b[39;00m:\n\u001b[1;32m--> 974\u001b[0m     \u001b[38;5;28;01mraise\u001b[39;00m \u001b[38;5;167;01mAttributeError\u001b[39;00m(\n\u001b[0;32m    975\u001b[0m         \u001b[38;5;124m\"\u001b[39m\u001b[38;5;124m'\u001b[39m\u001b[38;5;132;01m%s\u001b[39;00m\u001b[38;5;124m'\u001b[39m\u001b[38;5;124m object has no attribute \u001b[39m\u001b[38;5;124m'\u001b[39m\u001b[38;5;132;01m%s\u001b[39;00m\u001b[38;5;124m'\u001b[39m\u001b[38;5;124m\"\u001b[39m \u001b[38;5;241m%\u001b[39m (\n\u001b[0;32m    976\u001b[0m             \u001b[38;5;28mself\u001b[39m\u001b[38;5;241m.\u001b[39m\u001b[38;5;18m__class__\u001b[39m\u001b[38;5;241m.\u001b[39m\u001b[38;5;18m__name__\u001b[39m, attr))\n",
      "\u001b[1;31mAttributeError\u001b[0m: 'NavigableString' object has no attribute 'contents'"
     ]
    }
   ],
   "source": [
    "text = title_tag.contents[0]\n",
    "text.contents"
   ]
  },
  {
   "cell_type": "markdown",
   "id": "712c16b1",
   "metadata": {},
   "source": [
    "Au lieu de les obtenir sous forme de liste, vous pouvez parcourir les enfants d'une balise à l'aide du .children générateur :"
   ]
  },
  {
   "cell_type": "code",
   "execution_count": null,
   "id": "2d092df7",
   "metadata": {},
   "outputs": [
    {
     "name": "stdout",
     "output_type": "stream",
     "text": [
      "The Dormouse's story\n"
     ]
    }
   ],
   "source": [
    "for child in title_tag.children:\n",
    "    print(child)"
   ]
  },
  {
   "cell_type": "markdown",
   "id": "17772ad3",
   "metadata": {},
   "source": [
    "# .descendants\n",
    "Les attributs .contents  ne prennent en compte que les enfants directs.children d'une balise . Par exemple, la balise <!head> a un seul enfant direct, la balise <!title> :"
   ]
  },
  {
   "cell_type": "code",
   "execution_count": null,
   "id": "f62b5979",
   "metadata": {},
   "outputs": [
    {
     "data": {
      "text/plain": [
       "[<title>The Dormouse's story</title>]"
      ]
     },
     "execution_count": 59,
     "metadata": {},
     "output_type": "execute_result"
    }
   ],
   "source": [
    "head_tag.contents"
   ]
  },
  {
   "cell_type": "markdown",
   "id": "32d6f911",
   "metadata": {},
   "source": [
    "Mais la balise <!title> elle-même a un enfant : la chaîne « The Dormouse's story ». Il y a un sens dans lequel cette chaîne est également un enfant de la balise <!head>. L' .descendants attribut vous permet d'itérer sur tous les enfants d'une balise, de manière récursive : ses enfants directs, les enfants de ses enfants directs, etc. :"
   ]
  },
  {
   "cell_type": "code",
   "execution_count": null,
   "id": "745f4255",
   "metadata": {},
   "outputs": [
    {
     "name": "stdout",
     "output_type": "stream",
     "text": [
      "<title>The Dormouse's story</title>\n",
      "The Dormouse's story\n"
     ]
    }
   ],
   "source": [
    "for child in head_tag.descendants:\n",
    "    print(child)"
   ]
  },
  {
   "cell_type": "markdown",
   "id": "8f8b4695",
   "metadata": {},
   "source": [
    "La balise <head> n'a qu'un seul enfant, mais elle a deux descendants : la balise <!title> et l'enfant de la balise <!title>. L' BeautifulSoupobjet n'a qu'un seul enfant direct (la balise <!html>), mais il a beaucoup de descendants :"
   ]
  },
  {
   "cell_type": "code",
   "execution_count": null,
   "id": "17b66887",
   "metadata": {},
   "outputs": [
    {
     "data": {
      "text/plain": [
       "[<html><head><title>The Dormouse's story</title></head>\n",
       " <body>\n",
       " <p class=\"title\"><b>The Dormouse's story</b></p>\n",
       " <p class=\"story\">Once upon a time there were three little sisters; and their names were\n",
       " <a class=\"sister\" href=\"http://example.com/elsie\" id=\"link1\">Elsie</a>,\n",
       " <a class=\"sister\" href=\"http://example.com/lacie\" id=\"link2\">Lacie</a> and\n",
       " <a class=\"sister\" href=\"http://example.com/tillie\" id=\"link3\">Tillie</a>;\n",
       " and they lived at the bottom of a well.</p>\n",
       " <p class=\"story\">...</p>\n",
       " </body></html>]"
      ]
     },
     "execution_count": 61,
     "metadata": {},
     "output_type": "execute_result"
    }
   ],
   "source": [
    "yy=list(soup.children)\n",
    "yy"
   ]
  },
  {
   "cell_type": "code",
   "execution_count": null,
   "id": "572a76b0",
   "metadata": {},
   "outputs": [
    {
     "name": "stdout",
     "output_type": "stream",
     "text": [
      "[<html><head><title>The Dormouse's story</title></head>\n",
      "<body>\n",
      "<p class=\"title\"><b>The Dormouse's story</b></p>\n",
      "<p class=\"story\">Once upon a time there were three little sisters; and their names were\n",
      "<a class=\"sister\" href=\"http://example.com/elsie\" id=\"link1\">Elsie</a>,\n",
      "<a class=\"sister\" href=\"http://example.com/lacie\" id=\"link2\">Lacie</a> and\n",
      "<a class=\"sister\" href=\"http://example.com/tillie\" id=\"link3\">Tillie</a>;\n",
      "and they lived at the bottom of a well.</p>\n",
      "<p class=\"story\">...</p>\n",
      "</body></html>, <head><title>The Dormouse's story</title></head>, <title>The Dormouse's story</title>, \"The Dormouse's story\", '\\n', <body>\n",
      "<p class=\"title\"><b>The Dormouse's story</b></p>\n",
      "<p class=\"story\">Once upon a time there were three little sisters; and their names were\n",
      "<a class=\"sister\" href=\"http://example.com/elsie\" id=\"link1\">Elsie</a>,\n",
      "<a class=\"sister\" href=\"http://example.com/lacie\" id=\"link2\">Lacie</a> and\n",
      "<a class=\"sister\" href=\"http://example.com/tillie\" id=\"link3\">Tillie</a>;\n",
      "and they lived at the bottom of a well.</p>\n",
      "<p class=\"story\">...</p>\n",
      "</body>, '\\n', <p class=\"title\"><b>The Dormouse's story</b></p>, <b>The Dormouse's story</b>, \"The Dormouse's story\", '\\n', <p class=\"story\">Once upon a time there were three little sisters; and their names were\n",
      "<a class=\"sister\" href=\"http://example.com/elsie\" id=\"link1\">Elsie</a>,\n",
      "<a class=\"sister\" href=\"http://example.com/lacie\" id=\"link2\">Lacie</a> and\n",
      "<a class=\"sister\" href=\"http://example.com/tillie\" id=\"link3\">Tillie</a>;\n",
      "and they lived at the bottom of a well.</p>, 'Once upon a time there were three little sisters; and their names were\\n', <a class=\"sister\" href=\"http://example.com/elsie\" id=\"link1\">Elsie</a>, 'Elsie', ',\\n', <a class=\"sister\" href=\"http://example.com/lacie\" id=\"link2\">Lacie</a>, 'Lacie', ' and\\n', <a class=\"sister\" href=\"http://example.com/tillie\" id=\"link3\">Tillie</a>, 'Tillie', ';\\nand they lived at the bottom of a well.', '\\n', <p class=\"story\">...</p>, '...', '\\n']\n"
     ]
    }
   ],
   "source": [
    "print(list(soup.descendants))"
   ]
  },
  {
   "cell_type": "markdown",
   "id": "c615804b",
   "metadata": {},
   "source": [
    "# .string\n",
    "\n",
    "Si une balise n'a qu'un seul enfant et que cet enfant est un NavigableString, l'enfant est rendu disponible en tant que.string :"
   ]
  },
  {
   "cell_type": "code",
   "execution_count": null,
   "id": "cdec96dd",
   "metadata": {},
   "outputs": [
    {
     "data": {
      "text/plain": [
       "\"The Dormouse's story\""
      ]
     },
     "execution_count": 63,
     "metadata": {},
     "output_type": "execute_result"
    }
   ],
   "source": [
    "title_tag.string"
   ]
  },
  {
   "cell_type": "markdown",
   "id": "885f8316",
   "metadata": {},
   "source": [
    "Si le seul enfant d'une balise est une autre balise et que cette balise a un .string, alors la balise parent est considérée comme ayant la même chose .stringque son enfant :"
   ]
  },
  {
   "cell_type": "code",
   "execution_count": null,
   "id": "2bc08201",
   "metadata": {},
   "outputs": [
    {
     "data": {
      "text/plain": [
       "[<title>The Dormouse's story</title>]"
      ]
     },
     "execution_count": 64,
     "metadata": {},
     "output_type": "execute_result"
    }
   ],
   "source": [
    "head_tag.contents"
   ]
  },
  {
   "cell_type": "code",
   "execution_count": null,
   "id": "abd0b36f",
   "metadata": {},
   "outputs": [
    {
     "data": {
      "text/plain": [
       "\"The Dormouse's story\""
      ]
     },
     "execution_count": 65,
     "metadata": {},
     "output_type": "execute_result"
    }
   ],
   "source": [
    "head_tag.string"
   ]
  },
  {
   "cell_type": "markdown",
   "id": "18a58ab3",
   "metadata": {},
   "source": [
    "Si une balise contient plus d'une chose, alors ce à quoi elle  doit faire référence n'est pas clair , .string elle est donc définie comme suit None :"
   ]
  },
  {
   "cell_type": "code",
   "execution_count": null,
   "id": "8c8ee8c5",
   "metadata": {},
   "outputs": [
    {
     "name": "stdout",
     "output_type": "stream",
     "text": [
      "None\n"
     ]
    }
   ],
   "source": [
    "print(soup.html.string)"
   ]
  },
  {
   "cell_type": "markdown",
   "id": "065ed184",
   "metadata": {},
   "source": [
    "## .strings and stripped_strings\n",
    "If there’s more than one thing inside a tag, you can still look at just the strings. Use the .strings generator:"
   ]
  },
  {
   "cell_type": "code",
   "execution_count": null,
   "id": "731abeef",
   "metadata": {},
   "outputs": [
    {
     "name": "stdout",
     "output_type": "stream",
     "text": [
      "\"The Dormouse's story\"\n",
      "'\\n'\n",
      "'\\n'\n",
      "\"The Dormouse's story\"\n",
      "'\\n'\n",
      "'Once upon a time there were three little sisters; and their names were\\n'\n",
      "'Elsie'\n",
      "',\\n'\n",
      "'Lacie'\n",
      "' and\\n'\n",
      "'Tillie'\n",
      "';\\nand they lived at the bottom of a well.'\n",
      "'\\n'\n",
      "'...'\n",
      "'\\n'\n"
     ]
    }
   ],
   "source": [
    "for string in soup.strings:\n",
    "    print(repr(string))"
   ]
  },
  {
   "cell_type": "markdown",
   "id": "52e00a74",
   "metadata": {},
   "source": [
    "Ces chaînes ont tendance à avoir beaucoup d'espaces blancs supplémentaires, que vous pouvez supprimer en utilisant le .stripped_stringsgénérateur à la place :"
   ]
  },
  {
   "cell_type": "code",
   "execution_count": null,
   "id": "4229f143",
   "metadata": {},
   "outputs": [
    {
     "name": "stdout",
     "output_type": "stream",
     "text": [
      "\"The Dormouse's story\"\n",
      "\"The Dormouse's story\"\n",
      "'Once upon a time there were three little sisters; and their names were'\n",
      "'Elsie'\n",
      "','\n",
      "'Lacie'\n",
      "'and'\n",
      "'Tillie'\n",
      "';\\nand they lived at the bottom of a well.'\n",
      "'...'\n"
     ]
    }
   ],
   "source": [
    "for string in soup.stripped_strings:\n",
    "    print(repr(string))"
   ]
  },
  {
   "cell_type": "markdown",
   "id": "7f6dfb5b",
   "metadata": {},
   "source": [
    "Ici, les chaînes composées entièrement d'espaces sont ignorées et les espaces au début et à la fin des chaînes sont supprimés."
   ]
  },
  {
   "cell_type": "markdown",
   "id": "f7014340",
   "metadata": {},
   "source": [
    "# Monter\n",
    "Poursuivant l'analogie de « l'arbre généalogique », chaque balise et chaque chaîne a un parent : la balise qui la contient.\n",
    "\n",
    "### .parent\n",
    "Vous pouvez accéder au parent d'un élément avec l' ***.parent attribut***. Dans l'exemple de document \"three sisters\", la balise <!head> est le parent de la balise <!title> :"
   ]
  },
  {
   "cell_type": "code",
   "execution_count": null,
   "id": "5a6fc02a",
   "metadata": {},
   "outputs": [
    {
     "data": {
      "text/plain": [
       "<title>The Dormouse's story</title>"
      ]
     },
     "execution_count": 69,
     "metadata": {},
     "output_type": "execute_result"
    }
   ],
   "source": [
    "title_tag = soup.title\n",
    "title_tag"
   ]
  },
  {
   "cell_type": "code",
   "execution_count": null,
   "id": "bd69146e",
   "metadata": {},
   "outputs": [
    {
     "data": {
      "text/plain": [
       "<head><title>The Dormouse's story</title></head>"
      ]
     },
     "execution_count": 70,
     "metadata": {},
     "output_type": "execute_result"
    }
   ],
   "source": [
    "title_tag.parent"
   ]
  },
  {
   "cell_type": "markdown",
   "id": "ac054639",
   "metadata": {},
   "source": [
    "La chaîne de titre elle-même a un parent : la balise <title> qui la contient :"
   ]
  },
  {
   "cell_type": "code",
   "execution_count": null,
   "id": "3f95ee20",
   "metadata": {},
   "outputs": [
    {
     "data": {
      "text/plain": [
       "<title>The Dormouse's story</title>"
      ]
     },
     "execution_count": 71,
     "metadata": {},
     "output_type": "execute_result"
    }
   ],
   "source": [
    "title_tag.string.parent"
   ]
  },
  {
   "cell_type": "markdown",
   "id": "fb0f1cd3",
   "metadata": {},
   "source": [
    "Le parent d'une balise de niveau supérieur comme <html> est l' BeautifulSoupobjet lui-même :"
   ]
  },
  {
   "cell_type": "code",
   "execution_count": null,
   "id": "4a4f1a15",
   "metadata": {},
   "outputs": [
    {
     "data": {
      "text/plain": [
       "bs4.BeautifulSoup"
      ]
     },
     "execution_count": 72,
     "metadata": {},
     "output_type": "execute_result"
    }
   ],
   "source": [
    "html_tag = soup.html\n",
    "type(html_tag.parent)"
   ]
  },
  {
   "cell_type": "markdown",
   "id": "6d39937f",
   "metadata": {},
   "source": [
    "Et le .parentd'un BeautifulSoupobjet est défini comme Aucun :"
   ]
  },
  {
   "cell_type": "code",
   "execution_count": null,
   "id": "9d2e5f3b",
   "metadata": {},
   "outputs": [
    {
     "name": "stdout",
     "output_type": "stream",
     "text": [
      "None\n"
     ]
    }
   ],
   "source": [
    "print(soup.parent)"
   ]
  },
  {
   "cell_type": "markdown",
   "id": "a137c51d",
   "metadata": {},
   "source": [
    "### .parents\n",
    "Vous pouvez itérer sur tous les parents d'un élément avec .parents. Cet exemple utilise .parentspour voyager d'une balise <a> enfouie profondément dans le document, jusqu'au sommet du document :\n",
    "\n"
   ]
  },
  {
   "cell_type": "code",
   "execution_count": null,
   "id": "34d1d3af",
   "metadata": {},
   "outputs": [
    {
     "data": {
      "text/plain": [
       "<a class=\"sister\" href=\"http://example.com/elsie\" id=\"link1\">Elsie</a>"
      ]
     },
     "execution_count": 74,
     "metadata": {},
     "output_type": "execute_result"
    }
   ],
   "source": [
    "link = soup.a\n",
    "link"
   ]
  },
  {
   "cell_type": "code",
   "execution_count": null,
   "id": "e4dfb1d1",
   "metadata": {},
   "outputs": [
    {
     "name": "stdout",
     "output_type": "stream",
     "text": [
      "p\n",
      "body\n",
      "html\n",
      "[document]\n"
     ]
    }
   ],
   "source": [
    "for parent in link.parents:\n",
    "    if parent is None:\n",
    "        print(parent)\n",
    "    else:\n",
    "        print(parent.name)"
   ]
  },
  {
   "cell_type": "markdown",
   "id": "e08f4fc7",
   "metadata": {},
   "source": [
    "## Aller de côté\n",
    "Prenons un simple document comme celui-ci :"
   ]
  },
  {
   "cell_type": "code",
   "execution_count": null,
   "id": "ab2fab38",
   "metadata": {},
   "outputs": [
    {
     "name": "stdout",
     "output_type": "stream",
     "text": [
      "<html>\n",
      " <body>\n",
      "  <a>\n",
      "   <b>\n",
      "    text1\n",
      "   </b>\n",
      "   <c>\n",
      "    text2\n",
      "   </c>\n",
      "  </a>\n",
      " </body>\n",
      "</html>\n"
     ]
    }
   ],
   "source": [
    "sibling_soup = BeautifulSoup(\"<a><b>text1</b><c>text2</c></b></a>\")\n",
    "print(sibling_soup.prettify())"
   ]
  },
  {
   "cell_type": "markdown",
   "id": "b2e87867",
   "metadata": {},
   "source": [
    "La balise <!b> et la balise <!c> sont au même niveau : elles sont toutes deux des enfants directs de la même balise. Nous les appelons frères et sœurs . Lorsqu'un document est joliment imprimé, les frères et sœurs s'affichent au même niveau d'indentation. Vous pouvez également utiliser cette relation dans le code que vous écrivez.\n",
    "\n"
   ]
  },
  {
   "cell_type": "markdown",
   "id": "27bc8cb9",
   "metadata": {},
   "source": [
    "## .next_sibling et .previous_sibling\n",
    "Vous pouvez utiliser .next_sibling et  .previous_sibling pour naviguer entre les éléments de page qui se trouvent au même niveau de l'arborescence d'analyse :"
   ]
  },
  {
   "cell_type": "code",
   "execution_count": null,
   "id": "b2b4df66",
   "metadata": {},
   "outputs": [
    {
     "data": {
      "text/plain": [
       "<c>text2</c>"
      ]
     },
     "execution_count": 77,
     "metadata": {},
     "output_type": "execute_result"
    }
   ],
   "source": [
    "sibling_soup.b.next_sibling"
   ]
  },
  {
   "cell_type": "code",
   "execution_count": null,
   "id": "36f811bb",
   "metadata": {},
   "outputs": [
    {
     "data": {
      "text/plain": [
       "<b>text1</b>"
      ]
     },
     "execution_count": 78,
     "metadata": {},
     "output_type": "execute_result"
    }
   ],
   "source": [
    "sibling_soup.c.previous_sibling"
   ]
  },
  {
   "cell_type": "markdown",
   "id": "bed8731a",
   "metadata": {},
   "source": [
    "La balise <!b> a un .next_sibling, mais non .previous_sibling, car il n'y a rien avant la balise <!b> au même niveau de l'arborescence . Pour la même raison, la balise <!c> a un .previous_sibling mais non .next_sibling:"
   ]
  },
  {
   "cell_type": "code",
   "execution_count": null,
   "id": "ecc13ee4",
   "metadata": {},
   "outputs": [
    {
     "name": "stdout",
     "output_type": "stream",
     "text": [
      "None\n"
     ]
    }
   ],
   "source": [
    "print(sibling_soup.b.previous_sibling)"
   ]
  },
  {
   "cell_type": "code",
   "execution_count": null,
   "id": "14f22a95",
   "metadata": {},
   "outputs": [
    {
     "name": "stdout",
     "output_type": "stream",
     "text": [
      "None\n"
     ]
    }
   ],
   "source": [
    "print(sibling_soup.c.next_sibling)"
   ]
  },
  {
   "cell_type": "markdown",
   "id": "8bf789f3",
   "metadata": {},
   "source": [
    "Les chaînes \"text1\" et \"text2\" ne sont pas frères, car elles n'ont pas le même parent :"
   ]
  },
  {
   "cell_type": "code",
   "execution_count": null,
   "id": "16667a48",
   "metadata": {},
   "outputs": [
    {
     "data": {
      "text/plain": [
       "'text1'"
      ]
     },
     "execution_count": 81,
     "metadata": {},
     "output_type": "execute_result"
    }
   ],
   "source": [
    "sibling_soup.b.string"
   ]
  },
  {
   "cell_type": "code",
   "execution_count": null,
   "id": "2c33cc11",
   "metadata": {},
   "outputs": [
    {
     "name": "stdout",
     "output_type": "stream",
     "text": [
      "None\n"
     ]
    }
   ],
   "source": [
    "print(sibling_soup.b.string.next_sibling)"
   ]
  },
  {
   "cell_type": "markdown",
   "id": "e04a268d",
   "metadata": {},
   "source": [
    "Dans les vrais documents, le .next_sibling ou .previous_sibling d'une balise sera généralement une chaîne contenant des espaces. Revenons au document des « trois sœurs » :"
   ]
  },
  {
   "cell_type": "code",
   "execution_count": null,
   "id": "695d2743",
   "metadata": {},
   "outputs": [
    {
     "ename": "SyntaxError",
     "evalue": "invalid syntax (3909477007.py, line 1)",
     "output_type": "error",
     "traceback": [
      "\u001b[1;36m  Cell \u001b[1;32mIn[83], line 1\u001b[1;36m\u001b[0m\n\u001b[1;33m    <a href=\"http://example.com/elsie\" class=\"sister\" id=\"link1\">Elsie</a>\u001b[0m\n\u001b[1;37m    ^\u001b[0m\n\u001b[1;31mSyntaxError\u001b[0m\u001b[1;31m:\u001b[0m invalid syntax\n"
     ]
    }
   ],
   "source": [
    "<a href=\"http://example.com/elsie\" class=\"sister\" id=\"link1\">Elsie</a>\n",
    "<a href=\"http://example.com/lacie\" class=\"sister\" id=\"link2\">Lacie</a>\n",
    "<a href=\"http://example.com/tillie\" class=\"sister\" id=\"link3\">Tillie</a>"
   ]
  },
  {
   "cell_type": "markdown",
   "id": "ab71c122",
   "metadata": {},
   "source": [
    "Vous pourriez penser que le .next_siblingde la première balise <!a> serait la deuxième balise <!a>. Mais en fait, c'est une chaîne : la virgule et le retour à la ligne qui séparent la première balise <!a> de la seconde :"
   ]
  },
  {
   "cell_type": "code",
   "execution_count": null,
   "id": "54748aae",
   "metadata": {},
   "outputs": [
    {
     "data": {
      "text/plain": [
       "<a class=\"sister\" href=\"http://example.com/elsie\" id=\"link1\">Elsie</a>"
      ]
     },
     "execution_count": 84,
     "metadata": {},
     "output_type": "execute_result"
    }
   ],
   "source": [
    "link = soup.a\n",
    "link"
   ]
  },
  {
   "cell_type": "code",
   "execution_count": null,
   "id": "4885f351",
   "metadata": {},
   "outputs": [
    {
     "data": {
      "text/plain": [
       "',\\n'"
      ]
     },
     "execution_count": 85,
     "metadata": {},
     "output_type": "execute_result"
    }
   ],
   "source": [
    "link.next_sibling"
   ]
  },
  {
   "cell_type": "markdown",
   "id": "59c5a0ae",
   "metadata": {},
   "source": [
    "La deuxième balise <!a> est en fait le .next_sibling de la virgule :"
   ]
  },
  {
   "cell_type": "code",
   "execution_count": null,
   "id": "5b1103fa",
   "metadata": {},
   "outputs": [
    {
     "data": {
      "text/plain": [
       "<a class=\"sister\" href=\"http://example.com/lacie\" id=\"link2\">Lacie</a>"
      ]
     },
     "execution_count": 86,
     "metadata": {},
     "output_type": "execute_result"
    }
   ],
   "source": [
    "link.next_sibling.next_sibling"
   ]
  },
  {
   "cell_type": "markdown",
   "id": "342dcac3",
   "metadata": {},
   "source": [
    "## .next_siblings et .previous_siblings\n",
    "Vous pouvez itérer sur les frères d'une balise avec .next_siblings ou .previous_siblings :"
   ]
  },
  {
   "cell_type": "code",
   "execution_count": null,
   "id": "5e9cd7cb",
   "metadata": {},
   "outputs": [
    {
     "name": "stdout",
     "output_type": "stream",
     "text": [
      "',\\n'\n",
      "<a class=\"sister\" href=\"http://example.com/lacie\" id=\"link2\">Lacie</a>\n",
      "' and\\n'\n",
      "<a class=\"sister\" href=\"http://example.com/tillie\" id=\"link3\">Tillie</a>\n",
      "';\\nand they lived at the bottom of a well.'\n"
     ]
    }
   ],
   "source": [
    "for sibling in soup.a.next_siblings:\n",
    "    print(repr(sibling))"
   ]
  },
  {
   "cell_type": "code",
   "execution_count": null,
   "id": "c8bf7489",
   "metadata": {},
   "outputs": [
    {
     "name": "stdout",
     "output_type": "stream",
     "text": [
      "' and\\n'\n",
      "<a class=\"sister\" href=\"http://example.com/lacie\" id=\"link2\">Lacie</a>\n",
      "',\\n'\n",
      "<a class=\"sister\" href=\"http://example.com/elsie\" id=\"link1\">Elsie</a>\n",
      "'Once upon a time there were three little sisters; and their names were\\n'\n"
     ]
    }
   ],
   "source": [
    "for sibling in soup.find(id=\"link3\").previous_siblings:\n",
    "    print(repr(sibling))"
   ]
  },
  {
   "cell_type": "markdown",
   "id": "7b01174e",
   "metadata": {},
   "source": [
    "# Aller et retour\n",
    "Jetez un œil au début du document des « trois sœurs » :"
   ]
  },
  {
   "cell_type": "code",
   "execution_count": null,
   "id": "032d8bfe",
   "metadata": {},
   "outputs": [
    {
     "data": {
      "text/plain": [
       "'\"<html><head><title>The Dormouse\\'s story</title></head>\\n<p class=\"title\"><b>The Dormouse\\'s story</b></p>'"
      ]
     },
     "execution_count": 89,
     "metadata": {},
     "output_type": "execute_result"
    }
   ],
   "source": [
    "\"\"\"\"<html><head><title>The Dormouse's story</title></head>\n",
    "<p class=\"title\"><b>The Dormouse's story</b></p>\"\"\""
   ]
  },
  {
   "cell_type": "raw",
   "id": "394cd8e4",
   "metadata": {},
   "source": [
    "Un parseur HTML prend cette chaîne de caractères et la transforme en une série d'événements : \"ouvrez une balise <html>\", \"ouvrez une balise <head>\", \"ouvrez une balise <title>\", \"ajoutez une chaîne\", \"fermer la balise <title>\", \"ouvrir une balise <p>\", etc. Beautiful Soup propose des outils pour reconstruire l'analyse initiale du document."
   ]
  },
  {
   "cell_type": "markdown",
   "id": "98a5cf95",
   "metadata": {},
   "source": [
    "## .next_element et .previous_element\n",
    "L' .next_elementattribut d'une chaîne ou d'une balise pointe vers ce qui a été analysé immédiatement après. C'est peut-être la même chose que .next_sibling, mais c'est généralement radicalement différent.\n",
    "\n",
    "Voici la dernière balise <!a> dans le document \"trois sœurs\". C'est .next_sibling une chaîne : la conclusion de la phrase qui a été interrompue par le début de la balise <!a> :"
   ]
  },
  {
   "cell_type": "code",
   "execution_count": null,
   "id": "89761250",
   "metadata": {},
   "outputs": [
    {
     "data": {
      "text/plain": [
       "<a class=\"sister\" href=\"http://example.com/tillie\" id=\"link3\">Tillie</a>"
      ]
     },
     "execution_count": 90,
     "metadata": {},
     "output_type": "execute_result"
    }
   ],
   "source": [
    "last_a_tag = soup.find(\"a\", id=\"link3\")\n",
    "last_a_tag"
   ]
  },
  {
   "cell_type": "code",
   "execution_count": null,
   "id": "0adbe922",
   "metadata": {},
   "outputs": [
    {
     "data": {
      "text/plain": [
       "';\\nand they lived at the bottom of a well.'"
      ]
     },
     "execution_count": 91,
     "metadata": {},
     "output_type": "execute_result"
    }
   ],
   "source": [
    "last_a_tag.next_sibling"
   ]
  },
  {
   "cell_type": "markdown",
   "id": "2cd61050",
   "metadata": {},
   "source": [
    "Mais le .next_elementde cette balise <!a>, la chose qui a été analysée immédiatement après la balise <!a>, n'est pas le reste de cette phrase : c'est le mot « Tillie » :"
   ]
  },
  {
   "cell_type": "code",
   "execution_count": null,
   "id": "6e5450fb",
   "metadata": {},
   "outputs": [
    {
     "data": {
      "text/plain": [
       "'Tillie'"
      ]
     },
     "execution_count": 92,
     "metadata": {},
     "output_type": "execute_result"
    }
   ],
   "source": [
    "last_a_tag.next_element"
   ]
  },
  {
   "cell_type": "markdown",
   "id": "5e82920c",
   "metadata": {},
   "source": [
    "C'est parce que dans le balisage d'origine, le mot \"Tillie\" apparaissait avant ce point-virgule. L'analyseur a rencontré une balise <!a>, puis le mot \"Tillie\", puis la balise de fermeture <!/a>, puis le point-virgule et le reste de la phrase. Le point-virgule est au même niveau que la balise <!a>, mais le mot « Tillie » a été rencontré en premier.\n",
    "\n",
    "L' .previous_element attribut est l'exact opposé de .next_element. Il pointe vers l'élément qui a été analysé immédiatement avant celui-ci :"
   ]
  },
  {
   "cell_type": "code",
   "execution_count": null,
   "id": "518979ae",
   "metadata": {},
   "outputs": [
    {
     "data": {
      "text/plain": [
       "' and\\n'"
      ]
     },
     "execution_count": 93,
     "metadata": {},
     "output_type": "execute_result"
    }
   ],
   "source": [
    "last_a_tag.previous_element"
   ]
  },
  {
   "cell_type": "code",
   "execution_count": null,
   "id": "a08e4988",
   "metadata": {},
   "outputs": [
    {
     "data": {
      "text/plain": [
       "<a class=\"sister\" href=\"http://example.com/tillie\" id=\"link3\">Tillie</a>"
      ]
     },
     "execution_count": 94,
     "metadata": {},
     "output_type": "execute_result"
    }
   ],
   "source": [
    "last_a_tag.previous_element.next_element"
   ]
  },
  {
   "cell_type": "markdown",
   "id": "a4c3b862",
   "metadata": {},
   "source": [
    "## .next_elements et .previous_elements\n",
    "Vous devriez avoir l'idée maintenant. Vous pouvez utiliser ces itérateurs pour avancer ou reculer dans le document tel qu'il a été analysé :"
   ]
  },
  {
   "cell_type": "code",
   "execution_count": null,
   "id": "c0031201",
   "metadata": {},
   "outputs": [
    {
     "name": "stdout",
     "output_type": "stream",
     "text": [
      "'Tillie'\n",
      "';\\nand they lived at the bottom of a well.'\n",
      "'\\n'\n",
      "<p class=\"story\">...</p>\n",
      "'...'\n",
      "'\\n'\n"
     ]
    }
   ],
   "source": [
    "for element in last_a_tag.next_elements:\n",
    "    print(repr(element))"
   ]
  },
  {
   "cell_type": "markdown",
   "id": "dc828535",
   "metadata": {},
   "source": [
    "## Recherche de l'arbre\n",
    "Beautiful Soup définit de nombreuses méthodes de recherche dans l'arbre d'analyse, mais elles sont toutes très similaires. Je vais passer beaucoup de temps à expliquer les deux méthodes les plus populaires : find()et find_all(). Les autres méthodes prennent presque exactement les mêmes arguments, je vais donc les couvrir brièvement.\n",
    "\n",
    "Encore une fois, j'utiliserai le document \"trois sœurs\" comme exemple :"
   ]
  },
  {
   "cell_type": "code",
   "execution_count": null,
   "id": "7eae9350",
   "metadata": {},
   "outputs": [],
   "source": [
    "html_doc = \"\"\"\n",
    "<html><head><title>The Dormouse's story</title></head>\n",
    "<body>\n",
    "<p class=\"title\"><b>The Dormouse's story</b></p>\n",
    "\n",
    "<p class=\"story\">Once upon a time there were three little sisters; and their names were\n",
    "<a href=\"http://example.com/elsie\" class=\"sister\" id=\"link1\">Elsie</a>,\n",
    "<a href=\"http://example.com/lacie\" class=\"sister\" id=\"link2\">Lacie</a> and\n",
    "<a href=\"http://example.com/tillie\" class=\"sister\" id=\"link3\">Tillie</a>;\n",
    "and they lived at the bottom of a well.</p>\n",
    "\n",
    "<p class=\"story\">...</p>\n",
    "\"\"\"\n"
   ]
  },
  {
   "cell_type": "code",
   "execution_count": null,
   "id": "526132ce",
   "metadata": {},
   "outputs": [],
   "source": [
    "from bs4 import BeautifulSoup\n",
    "soup = BeautifulSoup(html_doc, 'html.parser')"
   ]
  },
  {
   "cell_type": "markdown",
   "id": "689c0ebe",
   "metadata": {},
   "source": [
    "En passant un filtre à un argument comme find_all(), vous pouvez zoomer sur les parties du document qui vous intéressent."
   ]
  },
  {
   "cell_type": "markdown",
   "id": "a3afc6d5",
   "metadata": {},
   "source": [
    "## Types de filtres\n",
    "Avant de parler en détail de find_all()méthodes similaires, je souhaite montrer des exemples de différents filtres que vous pouvez appliquer à ces méthodes. Ces filtres s'affichent encore et encore, tout au long de l'API de recherche. Vous pouvez les utiliser pour filtrer en fonction du nom d'une balise, de ses attributs, du texte d'une chaîne ou d'une combinaison de ceux-ci."
   ]
  },
  {
   "cell_type": "markdown",
   "id": "b7b9255a",
   "metadata": {},
   "source": [
    "## Un string\n",
    "Le filtre le plus simple est une chaîne. Passez une chaîne à une méthode de recherche et Beautiful Soup effectuera une correspondance avec cette chaîne exacte. Ce code trouve toutes les balises <!b> dans le document :"
   ]
  },
  {
   "cell_type": "code",
   "execution_count": null,
   "id": "e515c812",
   "metadata": {},
   "outputs": [
    {
     "data": {
      "text/plain": [
       "[<b>The Dormouse's story</b>]"
      ]
     },
     "execution_count": 4,
     "metadata": {},
     "output_type": "execute_result"
    }
   ],
   "source": [
    "soup.find_all('b')"
   ]
  },
  {
   "cell_type": "code",
   "execution_count": null,
   "id": "67bc1d43",
   "metadata": {},
   "outputs": [
    {
     "data": {
      "text/plain": [
       "[<a class=\"sister\" href=\"http://example.com/elsie\" id=\"link1\">Elsie</a>,\n",
       " <a class=\"sister\" href=\"http://example.com/lacie\" id=\"link2\">Lacie</a>,\n",
       " <a class=\"sister\" href=\"http://example.com/tillie\" id=\"link3\">Tillie</a>]"
      ]
     },
     "execution_count": 5,
     "metadata": {},
     "output_type": "execute_result"
    }
   ],
   "source": [
    "soup.find_all('a')"
   ]
  },
  {
   "cell_type": "code",
   "execution_count": null,
   "id": "286e1869",
   "metadata": {},
   "outputs": [],
   "source": []
  },
  {
   "cell_type": "markdown",
   "id": "9aae3c04",
   "metadata": {},
   "source": [
    "Si vous transmettez une chaîne d'octets, Beautiful Soup supposera que la chaîne est encodée en UTF-8. Vous pouvez éviter cela en transmettant une chaîne Unicode à la place."
   ]
  },
  {
   "cell_type": "markdown",
   "id": "a73920ec",
   "metadata": {},
   "source": [
    "## Une expression régulière\n",
    "Si vous transmettez un objet d'expression régulière, Beautiful Soup filtrera cette expression régulière à l'aide de sa search() méthode. Ce code trouve toutes les balises dont le nom commence par la lettre « b » ; dans ce cas, la balise <!body> et la balise <!b> :"
   ]
  },
  {
   "cell_type": "code",
   "execution_count": null,
   "id": "5c9146da",
   "metadata": {},
   "outputs": [
    {
     "name": "stdout",
     "output_type": "stream",
     "text": [
      "body\n",
      "b\n"
     ]
    }
   ],
   "source": [
    "import re\n",
    "for tag in soup.find_all(re.compile(\"^b\")):\n",
    "    print(tag.name)"
   ]
  },
  {
   "cell_type": "markdown",
   "id": "1f4fb3f6",
   "metadata": {},
   "source": [
    "Ce code trouve toutes les balises dont le nom contient la lettre 't' :"
   ]
  },
  {
   "cell_type": "code",
   "execution_count": null,
   "id": "e2ba4cbc",
   "metadata": {},
   "outputs": [
    {
     "name": "stdout",
     "output_type": "stream",
     "text": [
      "html\n",
      "title\n"
     ]
    }
   ],
   "source": [
    "for tag in soup.find_all(re.compile(\"t\")):\n",
    "    print(tag.name)"
   ]
  },
  {
   "cell_type": "markdown",
   "id": "4351e15c",
   "metadata": {},
   "source": [
    "### Une liste\n",
    "Si vous passez dans une liste, Beautiful Soup autorisera une correspondance de chaîne avec n'importe quel élément de cette liste. Ce code trouve toutes les balises <!a> et toutes les balises <!b> :"
   ]
  },
  {
   "cell_type": "code",
   "execution_count": null,
   "id": "89aa4245",
   "metadata": {},
   "outputs": [
    {
     "data": {
      "text/plain": [
       "[<b>The Dormouse's story</b>,\n",
       " <a class=\"sister\" href=\"http://example.com/elsie\" id=\"link1\">Elsie</a>,\n",
       " <a class=\"sister\" href=\"http://example.com/lacie\" id=\"link2\">Lacie</a>,\n",
       " <a class=\"sister\" href=\"http://example.com/tillie\" id=\"link3\">Tillie</a>]"
      ]
     },
     "execution_count": 101,
     "metadata": {},
     "output_type": "execute_result"
    }
   ],
   "source": [
    "soup.find_all([\"a\", \"b\"])"
   ]
  },
  {
   "cell_type": "markdown",
   "id": "7c66f16f",
   "metadata": {},
   "source": [
    "### True\n",
    "La valeur True correspond à tout ce qu'elle peut. Ce code trouve toutes les balises du document, mais aucune des chaînes de texte :"
   ]
  },
  {
   "cell_type": "code",
   "execution_count": null,
   "id": "fc82b913",
   "metadata": {},
   "outputs": [
    {
     "name": "stdout",
     "output_type": "stream",
     "text": [
      "html\n",
      "head\n",
      "title\n",
      "body\n",
      "p\n",
      "b\n",
      "p\n",
      "a\n",
      "a\n",
      "a\n",
      "p\n"
     ]
    }
   ],
   "source": [
    "for tag in soup.find_all(True):\n",
    "    print(tag.name)"
   ]
  },
  {
   "cell_type": "markdown",
   "id": "17309561",
   "metadata": {},
   "source": [
    "### Une fonction\n",
    "Si aucune des autres correspondances ne fonctionne pour vous, définissez une fonction qui prend un élément comme seul argument. La fonction doit retourner Truesi l'argument correspond, et False sinon.\n",
    "\n",
    "Voici une fonction qui renvoie True si une balise définit l'attribut \"class\" mais ne définit pas l'attribut \"id\":"
   ]
  },
  {
   "cell_type": "code",
   "execution_count": null,
   "id": "cae1e0c0",
   "metadata": {},
   "outputs": [],
   "source": [
    "def has_class_but_no_id(tag):\n",
    "    return tag.has_attr('class') and not tag.has_attr('id')"
   ]
  },
  {
   "cell_type": "markdown",
   "id": "fbec0151",
   "metadata": {},
   "source": [
    "Passez cette fonction dans find_all() et vous récupérerez toutes les balises <!p> :"
   ]
  },
  {
   "cell_type": "code",
   "execution_count": null,
   "id": "f33fc530",
   "metadata": {},
   "outputs": [
    {
     "data": {
      "text/plain": [
       "[<p class=\"title\"><b>The Dormouse's story</b></p>,\n",
       " <p class=\"story\">Once upon a time there were three little sisters; and their names were\n",
       " <a class=\"sister\" href=\"http://example.com/elsie\" id=\"link1\">Elsie</a>,\n",
       " <a class=\"sister\" href=\"http://example.com/lacie\" id=\"link2\">Lacie</a> and\n",
       " <a class=\"sister\" href=\"http://example.com/tillie\" id=\"link3\">Tillie</a>;\n",
       " and they lived at the bottom of a well.</p>,\n",
       " <p class=\"story\">...</p>]"
      ]
     },
     "execution_count": 10,
     "metadata": {},
     "output_type": "execute_result"
    }
   ],
   "source": [
    "soup.find_all(has_class_but_no_id)"
   ]
  },
  {
   "cell_type": "markdown",
   "id": "2949d712",
   "metadata": {},
   "source": [
    "Cette fonction ne récupère que les balises <!p>. Il ne récupère pas les balises <!a>, car ces balises définissent à la fois \"class\" et \"id\". Il ne récupère pas les balises comme <!html> et <!title>, car ces balises ne définissent pas la \"classe\".\n",
    "\n",
    "Si vous transmettez une fonction pour filtrer sur un attribut spécifique tel que href, l'argument transmis à la fonction sera la valeur de l'attribut, et non la balise entière. Voici une fonction qui trouve toutes ales balises dont hrefl'attribut ne correspond pas à une expression régulière :"
   ]
  },
  {
   "cell_type": "code",
   "execution_count": null,
   "id": "bf09bddc",
   "metadata": {},
   "outputs": [
    {
     "data": {
      "text/plain": [
       "[<a class=\"sister\" href=\"http://example.com/elsie\" id=\"link1\">Elsie</a>,\n",
       " <a class=\"sister\" href=\"http://example.com/tillie\" id=\"link3\">Tillie</a>]"
      ]
     },
     "execution_count": 105,
     "metadata": {},
     "output_type": "execute_result"
    }
   ],
   "source": [
    "def not_lacie(href):\n",
    "    return href and not re.compile(\"lacie\").search(href)\n",
    "soup.find_all(href=not_lacie)"
   ]
  },
  {
   "cell_type": "markdown",
   "id": "728a1e5b",
   "metadata": {},
   "source": [
    "La fonction peut être aussi compliquée que nécessaire. Voici une fonction qui renvoie True si une balise est entourée d'objets chaîne :"
   ]
  },
  {
   "cell_type": "code",
   "execution_count": null,
   "id": "4ff2be06",
   "metadata": {},
   "outputs": [
    {
     "name": "stdout",
     "output_type": "stream",
     "text": [
      "body\n",
      "p\n",
      "a\n",
      "a\n",
      "a\n",
      "p\n"
     ]
    }
   ],
   "source": [
    "from bs4 import NavigableString\n",
    "def surrounded_by_strings(tag):\n",
    "    return (isinstance(tag.next_element, NavigableString)\n",
    "            and isinstance(tag.previous_element, NavigableString))\n",
    "\n",
    "for tag in soup.find_all(surrounded_by_strings):\n",
    "    print(tag.name)"
   ]
  },
  {
   "cell_type": "markdown",
   "id": "2c06841b",
   "metadata": {},
   "source": [
    "Nous sommes maintenant prêts à examiner les méthodes de recherche en détail."
   ]
  },
  {
   "cell_type": "markdown",
   "id": "27272c12",
   "metadata": {},
   "source": [
    "## find_all()\n",
    "Signature : find_all( name , attrs , recursive , string , limit , **kwargs )\n",
    "\n",
    "La find_all() méthode parcourt les descendants d'une balise et récupère tous les descendants qui correspondent à vos filtres. J'ai donné plusieurs exemples dans Types de filtres , mais en voici quelques autres :"
   ]
  },
  {
   "cell_type": "code",
   "execution_count": null,
   "id": "0048a5c7",
   "metadata": {},
   "outputs": [
    {
     "data": {
      "text/plain": [
       "[<title>The Dormouse's story</title>]"
      ]
     },
     "execution_count": 107,
     "metadata": {},
     "output_type": "execute_result"
    }
   ],
   "source": [
    "soup.find_all(\"title\")"
   ]
  },
  {
   "cell_type": "code",
   "execution_count": null,
   "id": "33fe9a76",
   "metadata": {},
   "outputs": [
    {
     "data": {
      "text/plain": [
       "[<p class=\"title\"><b>The Dormouse's story</b></p>]"
      ]
     },
     "execution_count": 108,
     "metadata": {},
     "output_type": "execute_result"
    }
   ],
   "source": [
    "soup.find_all(\"p\", \"title\")"
   ]
  },
  {
   "cell_type": "code",
   "execution_count": null,
   "id": "10e94948",
   "metadata": {},
   "outputs": [
    {
     "data": {
      "text/plain": [
       "[<a class=\"sister\" href=\"http://example.com/elsie\" id=\"link1\">Elsie</a>,\n",
       " <a class=\"sister\" href=\"http://example.com/lacie\" id=\"link2\">Lacie</a>,\n",
       " <a class=\"sister\" href=\"http://example.com/tillie\" id=\"link3\">Tillie</a>]"
      ]
     },
     "execution_count": 109,
     "metadata": {},
     "output_type": "execute_result"
    }
   ],
   "source": [
    "soup.find_all(\"a\")"
   ]
  },
  {
   "cell_type": "code",
   "execution_count": null,
   "id": "10d160b5",
   "metadata": {},
   "outputs": [
    {
     "data": {
      "text/plain": [
       "[<a class=\"sister\" href=\"http://example.com/lacie\" id=\"link2\">Lacie</a>]"
      ]
     },
     "execution_count": 110,
     "metadata": {},
     "output_type": "execute_result"
    }
   ],
   "source": [
    "soup.find_all(id=\"link2\")"
   ]
  },
  {
   "cell_type": "code",
   "execution_count": null,
   "id": "97943926",
   "metadata": {},
   "outputs": [
    {
     "data": {
      "text/plain": [
       "'Once upon a time there were three little sisters; and their names were\\n'"
      ]
     },
     "execution_count": 111,
     "metadata": {},
     "output_type": "execute_result"
    }
   ],
   "source": [
    "import re\n",
    "soup.find(string=re.compile(\"sisters\"))"
   ]
  },
  {
   "cell_type": "markdown",
   "id": "f07d425b",
   "metadata": {},
   "source": [
    "Certains d'entre eux devraient vous sembler familiers, mais d'autres sont nouveaux. Que signifie passer une valeur pour string, ou id? Pourquoi trouve-t-on une balise <!p> avec la classe CSS « ​​title » ? Regardons les arguments de .find_all(\"p\", \"title\") find_all()"
   ]
  },
  {
   "cell_type": "markdown",
   "id": "91bb19ce",
   "metadata": {},
   "source": [
    "# L' name argumentation\n",
    "\n",
    "Passez une valeur pour name et vous direz à Beautiful Soup de ne considérer que les balises avec certains noms. Les chaînes de texte seront ignorées, tout comme les balises dont les noms ne correspondent pas.\n",
    "\n",
    "C'est l'utilisation la plus simple :"
   ]
  },
  {
   "cell_type": "code",
   "execution_count": null,
   "id": "8d272d14",
   "metadata": {},
   "outputs": [
    {
     "data": {
      "text/plain": [
       "[<title>The Dormouse's story</title>]"
      ]
     },
     "execution_count": 112,
     "metadata": {},
     "output_type": "execute_result"
    }
   ],
   "source": [
    "soup.find_all(\"title\")"
   ]
  },
  {
   "cell_type": "markdown",
   "id": "c275e9d8",
   "metadata": {},
   "source": [
    "Rappelez-vous de Types de filtres que la valeur de namepeut être une chaîne , une expression régulière , une liste , une fonction ou la valeur True ."
   ]
  },
  {
   "cell_type": "markdown",
   "id": "a2c1c90b",
   "metadata": {},
   "source": [
    "# Les arguments des mots clés\n",
    "\n",
    "Tout argument non reconnu sera transformé en filtre sur l'un des attributs d'une balise. Si vous transmettez une valeur pour un argument appelé id, Beautiful Soup filtrera sur l'attribut 'id' de chaque balise :"
   ]
  },
  {
   "cell_type": "code",
   "execution_count": null,
   "id": "81034b62",
   "metadata": {},
   "outputs": [
    {
     "data": {
      "text/plain": [
       "[<a class=\"sister\" href=\"http://example.com/lacie\" id=\"link2\">Lacie</a>]"
      ]
     },
     "execution_count": 113,
     "metadata": {},
     "output_type": "execute_result"
    }
   ],
   "source": [
    "soup.find_all(id='link2')"
   ]
  },
  {
   "cell_type": "markdown",
   "id": "b2c27eb8",
   "metadata": {},
   "source": [
    "Si vous transmettez une valeur pour href, Beautiful Soup filtrera en fonction de l'attribut 'href' de chaque balise :"
   ]
  },
  {
   "cell_type": "code",
   "execution_count": null,
   "id": "e7e6d298",
   "metadata": {},
   "outputs": [
    {
     "data": {
      "text/plain": [
       "[<a class=\"sister\" href=\"http://example.com/elsie\" id=\"link1\">Elsie</a>]"
      ]
     },
     "execution_count": 114,
     "metadata": {},
     "output_type": "execute_result"
    }
   ],
   "source": [
    "soup.find_all(href=re.compile(\"elsie\"))"
   ]
  },
  {
   "cell_type": "markdown",
   "id": "6ab4883a",
   "metadata": {},
   "source": [
    "Vous pouvez filtrer un attribut en fonction d' une chaîne , d'une expression régulière , d'une liste , d'une fonction ou de la valeur True .\n",
    "\n",
    "Ce code trouve toutes les balises dont idl'attribut a une valeur, quelle que soit la valeur :"
   ]
  },
  {
   "cell_type": "code",
   "execution_count": null,
   "id": "785bcc52",
   "metadata": {},
   "outputs": [
    {
     "data": {
      "text/plain": [
       "[<a class=\"sister\" href=\"http://example.com/elsie\" id=\"link1\">Elsie</a>,\n",
       " <a class=\"sister\" href=\"http://example.com/lacie\" id=\"link2\">Lacie</a>,\n",
       " <a class=\"sister\" href=\"http://example.com/tillie\" id=\"link3\">Tillie</a>]"
      ]
     },
     "execution_count": 115,
     "metadata": {},
     "output_type": "execute_result"
    }
   ],
   "source": [
    "soup.find_all(id=True)"
   ]
  },
  {
   "cell_type": "markdown",
   "id": "ddc0239b",
   "metadata": {},
   "source": [
    "Vous pouvez filtrer plusieurs attributs à la fois en transmettant plusieurs arguments de mot-clé :"
   ]
  },
  {
   "cell_type": "code",
   "execution_count": null,
   "id": "8254671a",
   "metadata": {},
   "outputs": [
    {
     "data": {
      "text/plain": [
       "[<a class=\"sister\" href=\"http://example.com/elsie\" id=\"link1\">Elsie</a>]"
      ]
     },
     "execution_count": 116,
     "metadata": {},
     "output_type": "execute_result"
    }
   ],
   "source": [
    "soup.find_all(href=re.compile(\"elsie\"), id='link1')"
   ]
  },
  {
   "cell_type": "markdown",
   "id": "059af632",
   "metadata": {},
   "source": [
    "Certains attributs, comme les attributs data-* dans HTML 5, ont des noms qui ne peuvent pas être utilisés comme noms d'arguments de mots-clés :"
   ]
  },
  {
   "cell_type": "code",
   "execution_count": null,
   "id": "c042519f",
   "metadata": {},
   "outputs": [
    {
     "ename": "SyntaxError",
     "evalue": "expression cannot contain assignment, perhaps you meant \"==\"? (53685298.py, line 2)",
     "output_type": "error",
     "traceback": [
      "\u001b[1;36m  Cell \u001b[1;32mIn[122], line 2\u001b[1;36m\u001b[0m\n\u001b[1;33m    data_soup.find_all(data-foo=\"value\")\u001b[0m\n\u001b[1;37m                       ^\u001b[0m\n\u001b[1;31mSyntaxError\u001b[0m\u001b[1;31m:\u001b[0m expression cannot contain assignment, perhaps you meant \"==\"?\n"
     ]
    }
   ],
   "source": [
    "data_soup = BeautifulSoup('<div data-foo=\"value\">foo!</div>')\n",
    "data_soup.find_all(data-foo=\"value\")"
   ]
  },
  {
   "cell_type": "markdown",
   "id": "b9f4bdd1",
   "metadata": {},
   "source": [
    "Vous pouvez utiliser ces attributs dans les recherches en les mettant dans un dictionnaire et en passant le dictionnaire dans find_all()comme attrsargument :"
   ]
  },
  {
   "cell_type": "code",
   "execution_count": null,
   "id": "06ee0930",
   "metadata": {},
   "outputs": [
    {
     "data": {
      "text/plain": [
       "[<div data-foo=\"value\">foo!</div>]"
      ]
     },
     "execution_count": 123,
     "metadata": {},
     "output_type": "execute_result"
    }
   ],
   "source": [
    "data_soup.find_all(attrs={\"data-foo\": \"value\"})"
   ]
  },
  {
   "cell_type": "markdown",
   "id": "dbebec28",
   "metadata": {},
   "source": [
    "Vous ne pouvez pas utiliser un argument de mot-clé pour rechercher l'élément 'name' de HTML, car Beautiful Soup utilise l' name argument pour contenir le nom de la balise elle-même. Au lieu de cela, vous pouvez donner une valeur à 'name' dans l' attrsargument :"
   ]
  },
  {
   "cell_type": "code",
   "execution_count": null,
   "id": "03353733",
   "metadata": {},
   "outputs": [
    {
     "data": {
      "text/plain": [
       "[]"
      ]
     },
     "execution_count": 124,
     "metadata": {},
     "output_type": "execute_result"
    }
   ],
   "source": [
    "name_soup = BeautifulSoup('<input name=\"email\"/>')\n",
    "name_soup.find_all(name=\"email\")"
   ]
  },
  {
   "cell_type": "code",
   "execution_count": null,
   "id": "4d46d6b8",
   "metadata": {},
   "outputs": [
    {
     "data": {
      "text/plain": [
       "[<input name=\"email\"/>]"
      ]
     },
     "execution_count": 125,
     "metadata": {},
     "output_type": "execute_result"
    }
   ],
   "source": [
    "name_soup.find_all(attrs={\"name\": \"email\"})"
   ]
  },
  {
   "cell_type": "markdown",
   "id": "c9f22aa2",
   "metadata": {},
   "source": [
    "# Recherche par classe CSS\n",
    "\n",
    "Il est très utile de rechercher une balise qui a une certaine classe CSS, mais le nom de l'attribut CSS, « classe », est un mot réservé en Python. L'utiliser classcomme argument de mot-clé vous donnera une erreur de syntaxe. Depuis Beautiful Soup 4.1.2, vous pouvez rechercher par classe CSS en utilisant l'argument mot-clé class_:"
   ]
  },
  {
   "cell_type": "code",
   "execution_count": null,
   "id": "9fea4678",
   "metadata": {},
   "outputs": [
    {
     "data": {
      "text/plain": [
       "[<a class=\"sister\" href=\"http://example.com/elsie\" id=\"link1\">Elsie</a>,\n",
       " <a class=\"sister\" href=\"http://example.com/lacie\" id=\"link2\">Lacie</a>,\n",
       " <a class=\"sister\" href=\"http://example.com/tillie\" id=\"link3\">Tillie</a>]"
      ]
     },
     "execution_count": 126,
     "metadata": {},
     "output_type": "execute_result"
    }
   ],
   "source": [
    "soup.find_all(\"a\", class_=\"sister\")"
   ]
  },
  {
   "cell_type": "markdown",
   "id": "66f4bc2f",
   "metadata": {},
   "source": [
    "Comme pour tout argument de mot-clé, vous pouvez passer class_ une chaîne, une expression régulière, une fonction ouTrue :"
   ]
  },
  {
   "cell_type": "code",
   "execution_count": null,
   "id": "d92afb25",
   "metadata": {},
   "outputs": [
    {
     "data": {
      "text/plain": [
       "[<p class=\"title\"><b>The Dormouse's story</b></p>]"
      ]
     },
     "execution_count": 128,
     "metadata": {},
     "output_type": "execute_result"
    }
   ],
   "source": [
    "soup.find_all(class_=re.compile(\"itl\"))"
   ]
  },
  {
   "cell_type": "code",
   "execution_count": null,
   "id": "3de9d4de",
   "metadata": {},
   "outputs": [
    {
     "data": {
      "text/plain": [
       "[<a class=\"sister\" href=\"http://example.com/elsie\" id=\"link1\">Elsie</a>,\n",
       " <a class=\"sister\" href=\"http://example.com/lacie\" id=\"link2\">Lacie</a>,\n",
       " <a class=\"sister\" href=\"http://example.com/tillie\" id=\"link3\">Tillie</a>]"
      ]
     },
     "execution_count": 129,
     "metadata": {},
     "output_type": "execute_result"
    }
   ],
   "source": [
    "def has_six_characters(css_class):\n",
    "    return css_class is not None and len(css_class) == 6\n",
    "\n",
    "soup.find_all(class_=has_six_characters)"
   ]
  },
  {
   "cell_type": "markdown",
   "id": "02c8344a",
   "metadata": {},
   "source": [
    "N'oubliez pas qu'une seule balise peut avoir plusieurs valeurs pour son attribut \"class\". Lorsque vous recherchez une balise qui correspond à une certaine classe CSS, vous recherchez une correspondance avec l'une de ses classes CSS :"
   ]
  },
  {
   "cell_type": "code",
   "execution_count": null,
   "id": "e340b17e",
   "metadata": {},
   "outputs": [
    {
     "data": {
      "text/plain": [
       "[<p class=\"body strikeout\"></p>]"
      ]
     },
     "execution_count": 130,
     "metadata": {},
     "output_type": "execute_result"
    }
   ],
   "source": [
    "css_soup = BeautifulSoup('<p class=\"body strikeout\"></p>')\n",
    "css_soup.find_all(\"p\", class_=\"strikeout\")"
   ]
  },
  {
   "cell_type": "code",
   "execution_count": null,
   "id": "8af6e39a",
   "metadata": {},
   "outputs": [
    {
     "data": {
      "text/plain": [
       "[<p class=\"body strikeout\"></p>]"
      ]
     },
     "execution_count": 131,
     "metadata": {},
     "output_type": "execute_result"
    }
   ],
   "source": [
    "css_soup.find_all(\"p\", class_=\"body\")"
   ]
  },
  {
   "cell_type": "markdown",
   "id": "068d9e2c",
   "metadata": {},
   "source": [
    "Vous pouvez également rechercher la valeur de chaîne exacte de l'attribut ***class*** :"
   ]
  },
  {
   "cell_type": "code",
   "execution_count": null,
   "id": "a8017198",
   "metadata": {},
   "outputs": [
    {
     "data": {
      "text/plain": [
       "[<p class=\"body strikeout\"></p>]"
      ]
     },
     "execution_count": 132,
     "metadata": {},
     "output_type": "execute_result"
    }
   ],
   "source": [
    "css_soup.find_all(\"p\", class_=\"body strikeout\")"
   ]
  },
  {
   "cell_type": "markdown",
   "id": "03a9a9af",
   "metadata": {},
   "source": [
    "Mais la recherche de variantes de la valeur de chaîne ne fonctionnera pas :"
   ]
  },
  {
   "cell_type": "code",
   "execution_count": null,
   "id": "83ea10b7",
   "metadata": {},
   "outputs": [
    {
     "data": {
      "text/plain": [
       "[]"
      ]
     },
     "execution_count": 135,
     "metadata": {},
     "output_type": "execute_result"
    }
   ],
   "source": [
    "css_soup.find_all(\"p\", class_=\"strikeout body\")"
   ]
  },
  {
   "cell_type": "markdown",
   "id": "deca0638",
   "metadata": {},
   "source": [
    "Si vous souhaitez rechercher des balises correspondant à deux ou plusieurs classes CSS, vous devez utiliser un sélecteur CSS :"
   ]
  },
  {
   "cell_type": "code",
   "execution_count": null,
   "id": "41a7cf95",
   "metadata": {},
   "outputs": [
    {
     "data": {
      "text/plain": [
       "[<p class=\"body strikeout\"></p>]"
      ]
     },
     "execution_count": 136,
     "metadata": {},
     "output_type": "execute_result"
    }
   ],
   "source": [
    "css_soup.select(\"p.strikeout.body\")"
   ]
  },
  {
   "cell_type": "markdown",
   "id": "993ba256",
   "metadata": {},
   "source": [
    "Dans les anciennes versions de Beautiful Soup, qui n'ont pas le class_ raccourci, vous pouvez utiliser l' attrsastuce mentionnée ci-dessus. Créez un dictionnaire dont la valeur pour \"class\" est la chaîne (ou l'expression régulière, ou autre) que vous souhaitez rechercher :"
   ]
  },
  {
   "cell_type": "code",
   "execution_count": null,
   "id": "5e6f4d1c",
   "metadata": {},
   "outputs": [
    {
     "data": {
      "text/plain": [
       "[<a class=\"sister\" href=\"http://example.com/elsie\" id=\"link1\">Elsie</a>,\n",
       " <a class=\"sister\" href=\"http://example.com/lacie\" id=\"link2\">Lacie</a>,\n",
       " <a class=\"sister\" href=\"http://example.com/tillie\" id=\"link3\">Tillie</a>]"
      ]
     },
     "execution_count": 137,
     "metadata": {},
     "output_type": "execute_result"
    }
   ],
   "source": [
    "soup.find_all(\"a\", attrs={\"class\": \"sister\"})"
   ]
  },
  {
   "cell_type": "code",
   "execution_count": null,
   "id": "1d357a10",
   "metadata": {},
   "outputs": [],
   "source": []
  }
 ],
 "metadata": {
  "kernelspec": {
   "display_name": "Python 3 (ipykernel)",
   "language": "python",
   "name": "python3"
  },
  "language_info": {
   "codemirror_mode": {
    "name": "ipython",
    "version": 3
   },
   "file_extension": ".py",
   "mimetype": "text/x-python",
   "name": "python",
   "nbconvert_exporter": "python",
   "pygments_lexer": "ipython3",
   "version": "3.11.5"
  }
 },
 "nbformat": 4,
 "nbformat_minor": 5
}
